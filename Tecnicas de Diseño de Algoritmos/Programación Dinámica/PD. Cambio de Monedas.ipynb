{
 "cells": [
  {
   "cell_type": "markdown",
   "metadata": {},
   "source": [
    "(c) 2019 Mitchell Blancas"
   ]
  },
  {
   "cell_type": "code",
   "execution_count": 1,
   "metadata": {},
   "outputs": [],
   "source": [
    "\"\"\"\n",
    "Tienes m tipos de monedas disponibles en cantidades infinitas\n",
    "donde el valor de cada moneda se da en la matriz S = [S0, ... Sm-1]\n",
    "\"\"\""
   ]
  },
  {
   "cell_type": "code",
   "execution_count": 2,
   "metadata": {},
   "outputs": [],
   "source": [
    "def dp_count(S, m, n):\n",
    "\n",
    "    # table[i] representa el número de formas de llegar a la cantidad i\n",
    "    table = [0] * (n + 1)\n",
    "    \n",
    "    # Hay exactamente 1 forma de llegar a cero (no escoges monedas).\n",
    "    table[0] = 1\n",
    "\n",
    "    # Elija todas las monedas una por una y actualice los valores de table[]\n",
    "    # después del índice mayor o igual que el valor de moneda escogida\n",
    "    for coin_val in S:\n",
    "        for j in range(coin_val, n + 1):\n",
    "            table[j] += table[j - coin_val]\n",
    "\n",
    "    return table[n]"
   ]
  },
  {
   "cell_type": "code",
   "execution_count": 3,
   "metadata": {},
   "outputs": [
    {
     "name": "stdout",
     "output_type": "stream",
     "text": [
      "4\n",
      "5\n"
     ]
    }
   ],
   "source": [
    "if __name__ == '__main__':\n",
    "    print(dp_count([1, 2, 3], 3, 4)) \n",
    "    print(dp_count([2, 5, 3, 6], 4, 10))"
   ]
  },
  {
   "cell_type": "code",
   "execution_count": null,
   "metadata": {},
   "outputs": [],
   "source": []
  }
 ],
 "metadata": {
  "kernelspec": {
   "display_name": "Python 3",
   "language": "python",
   "name": "python3"
  },
  "language_info": {
   "codemirror_mode": {
    "name": "ipython",
    "version": 3
   },
   "file_extension": ".py",
   "mimetype": "text/x-python",
   "name": "python",
   "nbconvert_exporter": "python",
   "pygments_lexer": "ipython3",
   "version": "3.6.7"
  }
 },
 "nbformat": 4,
 "nbformat_minor": 2
}
