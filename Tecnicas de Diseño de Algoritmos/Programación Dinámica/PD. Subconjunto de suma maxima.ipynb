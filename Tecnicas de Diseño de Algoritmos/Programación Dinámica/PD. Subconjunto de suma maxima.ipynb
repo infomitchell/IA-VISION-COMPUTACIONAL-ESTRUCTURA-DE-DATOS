{
 "cells": [
  {
   "cell_type": "markdown",
   "metadata": {},
   "source": [
    "(c) 2019 Mitchell Blancas"
   ]
  },
  {
   "cell_type": "code",
   "execution_count": 1,
   "metadata": {},
   "outputs": [],
   "source": [
    "from typing import List\n",
    "import time\n",
    "import matplotlib.pyplot as plt\n",
    "from random import randint"
   ]
  },
  {
   "cell_type": "code",
   "execution_count": 2,
   "metadata": {},
   "outputs": [],
   "source": [
    "def find_max_sub_array(A,low,high):\n",
    "    if low==high:\n",
    "        return low,high,A[low]\n",
    "    else :\n",
    "        mid=(low+high)//2\n",
    "        left_low,left_high,left_sum=find_max_sub_array(A,low,mid)\n",
    "        right_low,right_high,right_sum=find_max_sub_array(A,mid+1,high)\n",
    "        cross_left,cross_right,cross_sum=find_max_cross_sum(A,low,mid,high)\n",
    "        if left_sum>=right_sum and left_sum>=cross_sum:\n",
    "            return left_low,left_high,left_sum\n",
    "        elif right_sum>=left_sum and right_sum>=cross_sum :\n",
    "            return right_low,right_high,right_sum\n",
    "        else:\n",
    "            return cross_left,cross_right,cross_sum\n"
   ]
  },
  {
   "cell_type": "code",
   "execution_count": 3,
   "metadata": {},
   "outputs": [],
   "source": [
    "def find_max_cross_sum(A,low,mid,high):\n",
    "    left_sum,max_left=-999999999,-1\n",
    "    right_sum,max_right=-999999999,-1\n",
    "    summ=0\n",
    "    for i in range(mid,low-1,-1):\n",
    "        summ+=A[i]\n",
    "        if summ > left_sum:\n",
    "            left_sum=summ\n",
    "            max_left=i\n",
    "    summ=0\n",
    "    for i in range(mid+1,high+1):\n",
    "        summ+=A[i]\n",
    "        if summ > right_sum:\n",
    "            right_sum=summ\n",
    "            max_right=i\n",
    "    return max_left,max_right,(left_sum+right_sum)\n"
   ]
  },
  {
   "cell_type": "code",
   "execution_count": 4,
   "metadata": {},
   "outputs": [],
   "source": [
    "def max_sub_array(nums: List[int]) -> int:\n",
    "    \"\"\"\n",
    "    Encuentra el subconjunto contiguo (puede ser un conjunto vacío)\n",
    "     que tiene la suma más grande y devuelve su suma.\n",
    "\n",
    "    >>> max_sub_array([-2,1,-3,4,-1,2,1,-5,4])\n",
    "    6\n",
    "    >>> max_sub_array([])\n",
    "    0\n",
    "    >>> max_sub_array([-1,-2,-3])\n",
    "    0\n",
    "    \"\"\"\n",
    "    best = 0\n",
    "    current = 0\n",
    "    for i in nums:\n",
    "        current += i\n",
    "        if current < 0:\n",
    "            current = 0\n",
    "        best = max(best, current)\n",
    "    return best"
   ]
  },
  {
   "cell_type": "code",
   "execution_count": 5,
   "metadata": {},
   "outputs": [
    {
     "name": "stdout",
     "output_type": "stream",
     "text": [
      "Nro. de Entradas       Tiempo tomado\n",
      "10 \t\t 0.0\n",
      "100 \t\t 0.0\n",
      "1000 \t\t 0.0\n",
      "10000 \t\t 0.046874046325683594\n",
      "50000 \t\t 0.421875\n",
      "100000 \t\t 0.8124699592590332\n",
      "200000 \t\t 1.9218263626098633\n",
      "300000 \t\t 2.9374048709869385\n",
      "400000 \t\t 4.281108856201172\n",
      "500000 \t\t 4.999849081039429\n"
     ]
    },
    {
     "data": {
      "image/png": "[encoded data removed]",
      "text/plain": [
       "<Figure size 432x288 with 1 Axes>"
      ]
     },
     "metadata": {
      "needs_background": "light"
     },
     "output_type": "display_data"
    }
   ],
   "source": [
    "if __name__=='__main__':\n",
    "    inputs=[10,100,1000,10000,50000,100000,200000,300000,400000,500000]\n",
    "    tim=[]\n",
    "    for i in inputs:\n",
    "        li=[randint(1,i) for j in range(i)]\n",
    "        strt=time.time()\n",
    "        (find_max_sub_array(li,0,len(li)-1))\n",
    "        end=time.time()\n",
    "        tim.append(end-strt)\n",
    "    print(\"Nro. de Entradas       Tiempo tomado\")\n",
    "    for i in range(len(inputs)):\n",
    "        print(inputs[i],'\\t\\t',tim[i])\n",
    "    plt.plot(inputs,tim)\n",
    "    plt.xlabel(\"Numero de entradas\");plt.ylabel(\"Tiempo tomado en segundos \")\n",
    "    plt.show()"
   ]
  }
 ],
 "metadata": {
  "kernelspec": {
   "display_name": "Python 3",
   "language": "python",
   "name": "python3"
  },
  "language_info": {
   "codemirror_mode": {
    "name": "ipython",
    "version": 3
   },
   "file_extension": ".py",
   "mimetype": "text/x-python",
   "name": "python",
   "nbconvert_exporter": "python",
   "pygments_lexer": "ipython3",
   "version": "3.6.7"
  }
 },
 "nbformat": 4,
 "nbformat_minor": 2
}
