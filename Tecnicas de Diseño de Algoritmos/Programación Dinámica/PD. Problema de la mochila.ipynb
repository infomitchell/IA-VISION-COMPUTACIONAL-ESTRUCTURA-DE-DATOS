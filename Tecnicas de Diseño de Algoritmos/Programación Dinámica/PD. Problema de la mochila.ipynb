{
 "cells": [
  {
   "cell_type": "markdown",
   "metadata": {},
   "source": [
    "(c) 2019 Mitchell Blancas"
   ]
  },
  {
   "cell_type": "code",
   "execution_count": 1,
   "metadata": {},
   "outputs": [
    {
     "data": {
      "text/plain": [
       "'\\nDados los pesos y valores de n elementos, coloque estos elementos en una mochila de\\ncapacidad W para obtener el valor total máximo en la mochila.\\n\\nTenga en cuenta que solo el problema de mochilas de peso entero 0-1 es solucionable\\nusando programación dinámica.\\n'"
      ]
     },
     "execution_count": 1,
     "metadata": {},
     "output_type": "execute_result"
    }
   ],
   "source": [
    "\"\"\"\n",
    "Dados los pesos y valores de n elementos, coloque estos elementos en una mochila de\n",
    "capacidad W para obtener el valor total máximo en la mochila.\n",
    "\n",
    "Tenga en cuenta que solo el problema de mochilas de peso entero 0-1 es solucionable\n",
    "usando programación dinámica.\n",
    "\"\"\""
   ]
  },
  {
   "cell_type": "code",
   "execution_count": 2,
   "metadata": {},
   "outputs": [],
   "source": [
    "def MF_knapsack(i, wt, val, j):\n",
    "    global F  # una tabla global llamada \"dp\" para la mochila\n",
    "    if F[i][j] < 0:\n",
    "        if j < wt[i-1]:\n",
    "            val = MF_knapsack(i-1, wt, val, j)\n",
    "        else:\n",
    "            val = max(MF_knapsack(i-1, wt, val, j),\n",
    "                      MF_knapsack(i-1, wt, val, j - wt[i-1]) + val[i-1])\n",
    "        F[i][j] = val\n",
    "    return F[i][j]"
   ]
  },
  {
   "cell_type": "code",
   "execution_count": 3,
   "metadata": {},
   "outputs": [],
   "source": [
    "def knapsack(W, wt, val, n):\n",
    "    dp = [[0 for i in range(W+1)]for j in range(n+1)]\n",
    "\n",
    "    for i in range(1,n+1):\n",
    "        for w in range(1, W+1):\n",
    "            if wt[i-1] <= w:\n",
    "                dp[i][w] = max(val[i-1] + dp[i-1][w-wt[i-1]], dp[i-1][w])\n",
    "            else:\n",
    "                dp[i][w] = dp[i-1][w]\n",
    "\n",
    "    return dp[n][W], dp"
   ]
  },
  {
   "cell_type": "code",
   "execution_count": 4,
   "metadata": {},
   "outputs": [],
   "source": [
    "def knapsack_with_example_solution(W: int, wt: list, val:list):\n",
    "    \"\"\"\n",
    "    Resuelve el problema de la mochila entera y devuelve uno de\n",
    "    los varios subconjuntos óptimos.\n",
    "    \"\"\"\n",
    "    if not (isinstance(wt, (list, tuple)) and isinstance(val, (list, tuple))):\n",
    "        raise ValueError(\"Los vectores de pesos y valores deben ser listas o tuplas.\")\n",
    "\n",
    "    num_items = len(wt)\n",
    "    if num_items != len(val):\n",
    "        raise ValueError(\"El numero de pesos debe ser el \"\n",
    "                         \"mismo que el numero de valores.\\nPero, \"\n",
    "                         \"recibió {} pesos y {} valores\".format(num_items, len(val)))\n",
    "    for i in range(num_items):\n",
    "        if not isinstance(wt[i], int):\n",
    "            raise TypeError(\"Todos los pesos deben ser enteros, pero \"\n",
    "                            \"recibió el peso de tipo {} en el indice {}\".format(type(wt[i]), i))\n",
    "\n",
    "    optimal_val, dp_table = knapsack(W, wt, val, num_items)\n",
    "    example_optional_set = set()\n",
    "    _construct_solution(dp_table, wt, num_items, W, example_optional_set)\n",
    "\n",
    "    return optimal_val, example_optional_set\n"
   ]
  },
  {
   "cell_type": "code",
   "execution_count": 5,
   "metadata": {},
   "outputs": [],
   "source": [
    "def _construct_solution(dp:list, wt:list, i:int, j:int, optimal_set:set):\n",
    "    \"\"\"\n",
    "    Reconstruye recursivamente uno de los subconjuntos óptimos, \n",
    "    dados una tabla DP llena y el vector de pesos\n",
    "    \"\"\"\n",
    "    # para que el elemento actual i con un peso máximo j sea parte de un subconjunto óptimo,\n",
    "    # el valor óptimo en (i, j) debe ser mayor que el valor óptimo en (i-1, j).\n",
    "    # donde i - 1 significa considerar solo los elementos anteriores con el peso máximo dado\n",
    "    if i > 0 and j > 0:\n",
    "        if dp[i - 1][j] == dp[i][j]:\n",
    "            _construct_solution(dp, wt, i - 1, j, optimal_set)\n",
    "        else:\n",
    "            optimal_set.add(i)\n",
    "            _construct_solution(dp, wt, i - 1, j - wt[i-1], optimal_set)\n"
   ]
  },
  {
   "cell_type": "code",
   "execution_count": 6,
   "metadata": {},
   "outputs": [
    {
     "name": "stdout",
     "output_type": "stream",
     "text": [
      "8\n",
      "8\n",
      "valor optimo =  8\n",
      "Un subconjunto óptimo correspondiente al valor óptimo {3, 4}\n"
     ]
    }
   ],
   "source": [
    "if __name__ == '__main__':\n",
    "\n",
    "    val = [3, 2, 4, 4]\n",
    "    wt = [4, 3, 2, 3]\n",
    "    n = 4\n",
    "    w = 6\n",
    "    F = [[0] * (w + 1)] + [[0] + [-1 for i in range(w + 1)] for j in range(n + 1)]\n",
    "    optimal_solution, _ = knapsack(w,wt,val, n)\n",
    "    print(optimal_solution)\n",
    "    print(MF_knapsack(n,wt,val,w))  # switched the n and w\n",
    "\n",
    "    optimal_solution, optimal_subset = knapsack_with_example_solution(w, wt, val)\n",
    "    assert optimal_solution == 8\n",
    "    assert optimal_subset == {3, 4}\n",
    "    print(\"valor optimo = \", optimal_solution)\n",
    "    print(\"Un subconjunto óptimo correspondiente al valor óptimo\", optimal_subset)"
   ]
  },
  {
   "cell_type": "code",
   "execution_count": null,
   "metadata": {},
   "outputs": [],
   "source": []
  }
 ],
 "metadata": {
  "kernelspec": {
   "display_name": "Python 3",
   "language": "python",
   "name": "python3"
  },
  "language_info": {
   "codemirror_mode": {
    "name": "ipython",
    "version": 3
   },
   "file_extension": ".py",
   "mimetype": "text/x-python",
   "name": "python",
   "nbconvert_exporter": "python",
   "pygments_lexer": "ipython3",
   "version": "3.6.7"
  }
 },
 "nbformat": 4,
 "nbformat_minor": 2
}
