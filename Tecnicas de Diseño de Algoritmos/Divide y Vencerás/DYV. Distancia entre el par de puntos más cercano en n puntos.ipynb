{
 "cells": [
  {
   "cell_type": "markdown",
   "metadata": {},
   "source": [
    "(c) 2019 Mitchell Blancas"
   ]
  },
  {
   "cell_type": "code",
   "execution_count": 1,
   "metadata": {},
   "outputs": [
    {
     "data": {
      "text/plain": [
       "'\\nEl algoritmo encuentra la distancia entre el par de puntos \\nmás cercano en los \"n\" puntos dados\\n\\nLos puntos se ordenan según Xco-ords y\\nluego según Yco-ords por separado.\\n\\nY al aplicar el enfoque de divide y vencerás,\\nLa distancia mínima se obtiene de forma recursiva.\\n\\nmin(closest_pair_dis, closest_in_strip) nos da la respuesta final.\\n\\nComplejidad temporal: O (n * log n)\\n'"
      ]
     },
     "execution_count": 1,
     "metadata": {},
     "output_type": "execute_result"
    }
   ],
   "source": [
    "\"\"\"\n",
    "El algoritmo encuentra la distancia entre el par de puntos \n",
    "más cercano en los \"n\" puntos dados\n",
    "\n",
    "Los puntos se ordenan según Xco-ords y\n",
    "luego según Yco-ords por separado.\n",
    "\n",
    "Y al aplicar el enfoque de divide y vencerás,\n",
    "La distancia mínima se obtiene de forma recursiva.\n",
    "\n",
    "min(closest_pair_dis, closest_in_strip) nos da la respuesta final.\n",
    "\n",
    "Complejidad temporal: O (n * log n)\n",
    "\"\"\""
   ]
  },
  {
   "cell_type": "code",
   "execution_count": 2,
   "metadata": {},
   "outputs": [],
   "source": [
    "def euclidean_distance_sqr(point1, point2):\n",
    "    \"\"\"\n",
    "    >>> euclidean_distance_sqr([1,2],[2,4])\n",
    "    5\n",
    "    \"\"\"\n",
    "    return (point1[0] - point2[0]) ** 2 + (point1[1] - point2[1]) ** 2"
   ]
  },
  {
   "cell_type": "code",
   "execution_count": 3,
   "metadata": {},
   "outputs": [],
   "source": [
    "def column_based_sort(array, column = 0):\n",
    "    \"\"\"\n",
    "    Ejemplo ordenar segun Y:\n",
    "    >>> column_based_sort([(5, 1), (4, 2), (3, 0)], 1)\n",
    "    >>> Salida: [(3, 0), (5, 1), (4, 2)]\n",
    "    \"\"\"\n",
    "    return sorted(array, key = lambda x: x[column])"
   ]
  },
  {
   "cell_type": "code",
   "execution_count": 4,
   "metadata": {},
   "outputs": [],
   "source": [
    "#column_based_sort([(2, 3), (12, 30), (40, 50), (5, 1), (12, 10), (3, 4)], 1)  #ordenar segun \"y\" (segundo parametro 1)"
   ]
  },
  {
   "cell_type": "code",
   "execution_count": 5,
   "metadata": {},
   "outputs": [],
   "source": [
    "def dis_between_closest_pair(points, points_counts, min_dis = float(\"inf\")):\n",
    "    \"\"\"\n",
    "    Enfoque de fuerza bruta para encontrar la distancia \n",
    "    entre los puntos de par más cercanos\n",
    "\n",
    "    Parametros :\n",
    "    points, points_count, min_dis (list(tuple(int, int)), int, int)\n",
    "\n",
    "    Retorna :\n",
    "    min_dis (float):  distance between closest pair of points\n",
    "\n",
    "    Ejemplo:\n",
    "    >>> dis_between_closest_pair([[1,2],[2,4],[5,7],[8,9],[11,0]],5)\n",
    "    >>> Salida: 5\n",
    "    \"\"\"\n",
    "\n",
    "    for i in range(points_counts - 1):\n",
    "        for j in range(i+1, points_counts):\n",
    "            current_dis = euclidean_distance_sqr(points[i], points[j])\n",
    "            if current_dis < min_dis:\n",
    "                min_dis = current_dis\n",
    "    return min_dis"
   ]
  },
  {
   "cell_type": "code",
   "execution_count": 6,
   "metadata": {},
   "outputs": [],
   "source": [
    "def dis_between_closest_in_strip(points, points_counts, min_dis = float(\"inf\")):\n",
    "    \"\"\"\n",
    "    Parametros :\n",
    "    points, points_count, min_dis (list(tuple(int, int)), int, int)\n",
    "\n",
    "    Retorna :\n",
    "    min_dis (float):  distancia entre el par de puntos más cercano en el strip (< min_dis)\n",
    "\n",
    "    Ejemplo:\n",
    "    >>> dis_between_closest_in_strip([[1,2],[2,4],[5,7],[8,9],[11,0]],5)\n",
    "    >>> Salida: 85\n",
    "    \"\"\"\n",
    "\n",
    "    for i in range(min(6, points_counts - 1), points_counts):\n",
    "        for j in range(max(0, i-6), i):\n",
    "            current_dis = euclidean_distance_sqr(points[i], points[j])\n",
    "            if current_dis < min_dis:\n",
    "                min_dis = current_dis\n",
    "    return min_dis"
   ]
  },
  {
   "cell_type": "code",
   "execution_count": 7,
   "metadata": {},
   "outputs": [],
   "source": [
    "def closest_pair_of_points_sqr(points_sorted_on_x, points_sorted_on_y, points_counts):\n",
    "    \"\"\" \n",
    "    Enfoque Divide y Conquista\n",
    "    \n",
    "    Parametros :\n",
    "    points, points_count (list(tuple(int, int)), int)\n",
    "\n",
    "    Retorna :\n",
    "    (float):  distancia entre el par de puntos más cercano\n",
    "    \"\"\"\n",
    "\n",
    "    # caso base\n",
    "    if points_counts <= 3:\n",
    "        return dis_between_closest_pair(points_sorted_on_x, points_counts)\n",
    "\n",
    "    # casos recursivos\n",
    "    mid = points_counts//2\n",
    "    closest_in_left = closest_pair_of_points_sqr(points_sorted_on_x,\n",
    "                                                 points_sorted_on_y[:mid],\n",
    "                                                 mid)\n",
    "    closest_in_right = closest_pair_of_points_sqr(points_sorted_on_y,\n",
    "                                                  points_sorted_on_y[mid:],\n",
    "                                                  points_counts - mid)\n",
    "    closest_pair_dis = min(closest_in_left, closest_in_right)\n",
    "\n",
    "\n",
    "    cross_strip = []\n",
    "    for point in points_sorted_on_x:\n",
    "        if abs(point[0] - points_sorted_on_x[mid][0]) < closest_pair_dis:\n",
    "            cross_strip.append(point)\n",
    "\n",
    "    closest_in_strip = dis_between_closest_in_strip(cross_strip,\n",
    "                     len(cross_strip), closest_pair_dis)\n",
    "    return min(closest_pair_dis, closest_in_strip)"
   ]
  },
  {
   "cell_type": "code",
   "execution_count": 8,
   "metadata": {},
   "outputs": [],
   "source": [
    "def closest_pair_of_points(points, points_counts):\n",
    "    points_sorted_on_x = column_based_sort(points, column = 0)\n",
    "    points_sorted_on_y = column_based_sort(points, column = 1)\n",
    "    return (closest_pair_of_points_sqr(points_sorted_on_x,\n",
    "                                       points_sorted_on_y,\n",
    "                                       points_counts)) ** 0.5"
   ]
  },
  {
   "cell_type": "code",
   "execution_count": 9,
   "metadata": {},
   "outputs": [
    {
     "name": "stdout",
     "output_type": "stream",
     "text": [
      "Distancia: 1.4142135623730951\n"
     ]
    }
   ],
   "source": [
    "if __name__ == \"__main__\":\n",
    "    points = [(2, 3), (12, 30), (40, 50), (5, 1), (12, 10), (3, 4)]\n",
    "    print(\"Distancia:\", closest_pair_of_points(points, len(points)))"
   ]
  },
  {
   "cell_type": "code",
   "execution_count": null,
   "metadata": {},
   "outputs": [],
   "source": []
  }
 ],
 "metadata": {
  "kernelspec": {
   "display_name": "Python 3",
   "language": "python",
   "name": "python3"
  },
  "language_info": {
   "codemirror_mode": {
    "name": "ipython",
    "version": 3
   },
   "file_extension": ".py",
   "mimetype": "text/x-python",
   "name": "python",
   "nbconvert_exporter": "python",
   "pygments_lexer": "ipython3",
   "version": "3.6.7"
  }
 },
 "nbformat": 4,
 "nbformat_minor": 2
}
