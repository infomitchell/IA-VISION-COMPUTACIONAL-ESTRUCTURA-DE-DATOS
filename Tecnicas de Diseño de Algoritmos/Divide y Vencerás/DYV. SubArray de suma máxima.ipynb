{
 "cells": [
  {
   "cell_type": "markdown",
   "metadata": {},
   "source": [
    "(c) 2019 Mitchell Blancas"
   ]
  },
  {
   "cell_type": "code",
   "execution_count": 1,
   "metadata": {},
   "outputs": [
    {
     "data": {
      "text/plain": [
       "' \\nDada una matriz de longitud n, max_subarray_sum () encuentra\\nel máximo de suma de subconjuntos contiguos utilizando el \\nmétodo de Divide y Conquista.\\n\\nComplejidad temporal : O(n log n)\\n\\nReferencia : INTRODUCTION TO ALGORITHMS THIRD EDITION \\n(seccion : 4, subseccion : 4.1, pagina : 70)\\n'"
      ]
     },
     "execution_count": 1,
     "metadata": {},
     "output_type": "execute_result"
    }
   ],
   "source": [
    "\"\"\" \n",
    "Dada una matriz de longitud n, max_subarray_sum () encuentra\n",
    "el máximo de suma de subconjuntos contiguos utilizando el \n",
    "método de Divide y Conquista.\n",
    "\n",
    "Complejidad temporal : O(n log n)\n",
    "\n",
    "Referencia : INTRODUCTION TO ALGORITHMS THIRD EDITION \n",
    "(seccion : 4, subseccion : 4.1, pagina : 70)\n",
    "\"\"\""
   ]
  },
  {
   "cell_type": "code",
   "execution_count": 2,
   "metadata": {},
   "outputs": [],
   "source": [
    "def max_sum_from_start(array):\n",
    "    \"\"\" \n",
    "    Esta función encuentra la suma contigua máxima de la matriz desde el índice 0\n",
    "\n",
    "    Parametros : \n",
    "    array (list[int]) : array dado\n",
    "    \n",
    "    Retorna : \n",
    "    max_sum (int) : suma contigua máxima de matriz desde índice 0\n",
    "    \"\"\"\n",
    "    array_sum = 0\n",
    "    max_sum = float(\"-inf\")\n",
    "    for num in array:\n",
    "        array_sum += num\n",
    "        if array_sum > max_sum:\n",
    "            max_sum = array_sum\n",
    "    return max_sum\n"
   ]
  },
  {
   "cell_type": "code",
   "execution_count": 3,
   "metadata": {},
   "outputs": [],
   "source": [
    "def max_cross_array_sum(array, left, mid, right):\n",
    "    \"\"\" \n",
    "    Esta función encuentra la suma contigua máxima de matrices izquierda y derecha\n",
    "\n",
    "    Parametros : \n",
    "    array, left, mid, right (list[int], int, int, int) \n",
    "    \n",
    "    Retorna : \n",
    "    (int) : máximo de suma de suma contigua de matrices izquierda y derecha\n",
    "    \"\"\"\n",
    "\n",
    "    max_sum_of_left = max_sum_from_start(array[left:mid+1][::-1])\n",
    "    max_sum_of_right = max_sum_from_start(array[mid+1: right+1])\n",
    "    return max_sum_of_left + max_sum_of_right"
   ]
  },
  {
   "cell_type": "code",
   "execution_count": 4,
   "metadata": {},
   "outputs": [],
   "source": [
    "def max_subarray_sum(array, left, right):\n",
    "    \"\"\" \n",
    "    Suma máxima de subconjuntos contiguos, \n",
    "    utilizando el método Divide y Conquista\n",
    "\n",
    "    Parametros : \n",
    "    array, left, right (list[int], int, int) : matriz dada, \n",
    "    índice izquierdo actual e índice derecho actual\n",
    "    \n",
    "    Retorna : \n",
    "    int :  máximo de suma de subconjunto contiguo\n",
    "    \"\"\"\n",
    "\n",
    "    # caso base: arreglo solo tiene un elemento\n",
    "    if left == right:\n",
    "        return array[right]\n",
    "    \n",
    "    # Recursividad\n",
    "    mid = (left + right) // 2\n",
    "    left_half_sum = max_subarray_sum(array, left, mid)\n",
    "    right_half_sum = max_subarray_sum(array, mid + 1, right)\n",
    "    cross_sum = max_cross_array_sum(array, left, mid, right)\n",
    "    return max(left_half_sum, right_half_sum, cross_sum)\n"
   ]
  },
  {
   "cell_type": "code",
   "execution_count": 5,
   "metadata": {},
   "outputs": [
    {
     "name": "stdout",
     "output_type": "stream",
     "text": [
      "Suma máxima de subconjunto contiguo: 7\n"
     ]
    }
   ],
   "source": [
    "array = [-2, -5, 6, -2, -3, 1, 5, -6]\n",
    "array_length = len(array)\n",
    "print(\"Suma máxima de subconjunto contiguo:\", max_subarray_sum(array, 0, array_length - 1))"
   ]
  },
  {
   "cell_type": "code",
   "execution_count": null,
   "metadata": {},
   "outputs": [],
   "source": []
  }
 ],
 "metadata": {
  "kernelspec": {
   "display_name": "Python 3",
   "language": "python",
   "name": "python3"
  },
  "language_info": {
   "codemirror_mode": {
    "name": "ipython",
    "version": 3
   },
   "file_extension": ".py",
   "mimetype": "text/x-python",
   "name": "python",
   "nbconvert_exporter": "python",
   "pygments_lexer": "ipython3",
   "version": "3.6.7"
  }
 },
 "nbformat": 4,
 "nbformat_minor": 2
}
