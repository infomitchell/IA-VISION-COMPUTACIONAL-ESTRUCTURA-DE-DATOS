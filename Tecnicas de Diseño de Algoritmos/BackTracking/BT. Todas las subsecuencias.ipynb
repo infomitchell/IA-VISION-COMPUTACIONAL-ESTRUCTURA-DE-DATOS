{
 "cells": [
  {
   "cell_type": "markdown",
   "metadata": {},
   "source": [
    "(c) 2019 Mitchell Blancas"
   ]
  },
  {
   "cell_type": "code",
   "execution_count": 1,
   "metadata": {},
   "outputs": [
    {
     "data": {
      "text/plain": [
       "'\\nOBJETIVO: Queremos determinar todas las subsecuencias posibles\\nde la secuencia dada.\\n\\nComplejidad temporal: O (2 ^ n),\\ndonde \"n\" denota la longitud de la secuencia dada.\\n'"
      ]
     },
     "execution_count": 1,
     "metadata": {},
     "output_type": "execute_result"
    }
   ],
   "source": [
    "'''\n",
    "OBJETIVO: Queremos determinar todas las subsecuencias posibles\n",
    "de la secuencia dada.\n",
    "\n",
    "Complejidad temporal: O (2 ^ n),\n",
    "donde \"n\" denota la longitud de la secuencia dada.\n",
    "'''"
   ]
  },
  {
   "cell_type": "code",
   "execution_count": 2,
   "metadata": {},
   "outputs": [],
   "source": [
    "def generate_all_subsequences(sequence):\n",
    "    create_state_space_tree(sequence, [], 0)"
   ]
  },
  {
   "cell_type": "code",
   "execution_count": 3,
   "metadata": {},
   "outputs": [],
   "source": [
    "def create_state_space_tree(sequence, current_subsequence, index):\n",
    "    '''\n",
    "    Crea un árbol de espacio de estado para iterar a través de cada rama usando Busqueda por profundidad.\n",
    "    Sabemos que cada estado tiene exactamente dos hijos.\n",
    "    Termina cuando llega al final de la secuencia dada.\n",
    "    '''\n",
    "\n",
    "    if index == len(sequence):\n",
    "        print(current_subsequence)\n",
    "        return\n",
    "\n",
    "    create_state_space_tree(sequence, current_subsequence, index + 1)\n",
    "    current_subsequence.append(sequence[index])\n",
    "    create_state_space_tree(sequence, current_subsequence, index + 1)\n",
    "    current_subsequence.pop()\n"
   ]
  },
  {
   "cell_type": "code",
   "execution_count": 4,
   "metadata": {},
   "outputs": [
    {
     "name": "stdout",
     "output_type": "stream",
     "text": [
      "[]\n",
      "[4]\n",
      "[2]\n",
      "[2, 4]\n",
      "[1]\n",
      "[1, 4]\n",
      "[1, 2]\n",
      "[1, 2, 4]\n",
      "[3]\n",
      "[3, 4]\n",
      "[3, 2]\n",
      "[3, 2, 4]\n",
      "[3, 1]\n",
      "[3, 1, 4]\n",
      "[3, 1, 2]\n",
      "[3, 1, 2, 4]\n",
      "[]\n",
      "['C']\n",
      "['B']\n",
      "['B', 'C']\n",
      "['A']\n",
      "['A', 'C']\n",
      "['A', 'B']\n",
      "['A', 'B', 'C']\n"
     ]
    }
   ],
   "source": [
    "'''\n",
    "Recibir las entradas por consola.\n",
    "\n",
    "print(\"Ingrese los elementos\")\n",
    "sequence = list(map(int, input().split()))\n",
    "'''\n",
    "\n",
    "sequence = [3, 1, 2, 4]\n",
    "generate_all_subsequences(sequence)\n",
    "\n",
    "sequence = [\"A\", \"B\", \"C\"]\n",
    "generate_all_subsequences(sequence)"
   ]
  },
  {
   "cell_type": "code",
   "execution_count": null,
   "metadata": {},
   "outputs": [],
   "source": []
  }
 ],
 "metadata": {
  "kernelspec": {
   "display_name": "Python 3",
   "language": "python",
   "name": "python3"
  },
  "language_info": {
   "codemirror_mode": {
    "name": "ipython",
    "version": 3
   },
   "file_extension": ".py",
   "mimetype": "text/x-python",
   "name": "python",
   "nbconvert_exporter": "python",
   "pygments_lexer": "ipython3",
   "version": "3.6.7"
  }
 },
 "nbformat": 4,
 "nbformat_minor": 2
}
