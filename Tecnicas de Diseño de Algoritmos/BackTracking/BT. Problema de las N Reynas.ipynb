{
 "cells": [
  {
   "cell_type": "markdown",
   "metadata": {},
   "source": [
    "(c) 2019 Mitchell Blancas"
   ]
  },
  {
   "cell_type": "code",
   "execution_count": 1,
   "metadata": {},
   "outputs": [
    {
     "data": {
      "text/plain": [
       "'\\nObjetivo: Colocar N reinas en un tablero de ajedrez de N * N de modo que ninguna reina pueda atacar a otras reinas colocadas\\n en ese mismo tablero. Esto significa que una reina no puede tener ninguna otra reina en su horizontal, vertical y\\n líneas diagonales\\n'"
      ]
     },
     "execution_count": 1,
     "metadata": {},
     "output_type": "execute_result"
    }
   ],
   "source": [
    "'''\n",
    "Objetivo: Colocar N reinas en un tablero de ajedrez de N * N de modo que ninguna reina pueda atacar a otras reinas colocadas\n",
    " en ese mismo tablero. Esto significa que una reina no puede tener ninguna otra reina en su horizontal, vertical y\n",
    " líneas diagonales\n",
    "'''"
   ]
  },
  {
   "cell_type": "code",
   "execution_count": 2,
   "metadata": {},
   "outputs": [],
   "source": [
    "def isSafe(board, row, column):\n",
    "    '''\n",
    "    Esta función devuelve un valor booleano Verdadero si es seguro colocar una reina allí considerando\n",
    "    El estado actual del tablero.\n",
    "    '''\n",
    "    for i in range(len(board)):\n",
    "        if board[row][i] == 1:\n",
    "            return False\n",
    "    for i in range(len(board)):\n",
    "        if board[i][column] == 1:\n",
    "            return False\n",
    "    for i,j in zip(range(row,-1,-1),range(column,-1,-1)):\n",
    "        if board[i][j] == 1:\n",
    "            return False\n",
    "    for i,j in zip(range(row,-1,-1),range(column,len(board))):\n",
    "        if board[i][j] == 1:\n",
    "            return False\n",
    "    return True"
   ]
  },
  {
   "cell_type": "code",
   "execution_count": 3,
   "metadata": {},
   "outputs": [],
   "source": [
    "def solve(board, row):\n",
    "    '''\n",
    "    Crea un árbol de espacio de estados y llama a la función \"isSafe\" hasta que recibe un\n",
    "    valor Falso y termina esa rama y retrocede a la siguiente rama de solución posible.\n",
    "    '''\n",
    "    if row >= len(board):\n",
    "        '''\n",
    "        Si el número de fila excede N, tenemos un tablero con una combinación exitosa\n",
    "        y esa combinación se agrega a la lista de soluciones y se imprime el tablero.\n",
    "        '''\n",
    "        solution.append(board)\n",
    "        printboard(board)\n",
    "        print()\n",
    "        return \n",
    "    for i in range(len(board)):\n",
    "        '''\n",
    "        Para cada fila, recorre cada columna para verificar si es factible colocar una\n",
    "        reina allí.\n",
    "        Si todas las combinaciones para esa rama en particular son exitosas, el tablero es\n",
    "        reinicializado para la próxima combinación posible.\n",
    "        '''\n",
    "        if isSafe(board,row,i):\n",
    "            board[row][i] = 1\n",
    "            solve(board,row+1)\n",
    "            board[row][i] = 0\n",
    "    return False"
   ]
  },
  {
   "cell_type": "code",
   "execution_count": 4,
   "metadata": {},
   "outputs": [],
   "source": [
    "def printboard(board):\n",
    "    '''\n",
    "    Imprime los tableros que tienen una combinación exitosa.\n",
    "    '''\n",
    "    for i in range(len(board)):\n",
    "        for j in range(len(board)):\n",
    "            if board[i][j] == 1:\n",
    "                print(\"Q\", end = \" \")\n",
    "            else :\n",
    "                print(\".\", end = \" \")\n",
    "        print()"
   ]
  },
  {
   "cell_type": "code",
   "execution_count": 5,
   "metadata": {},
   "outputs": [
    {
     "name": "stdout",
     "output_type": "stream",
     "text": [
      ". Q . . \n",
      ". . . Q \n",
      "Q . . . \n",
      ". . Q . \n",
      "\n",
      ". . Q . \n",
      "Q . . . \n",
      ". . . Q \n",
      ". Q . . \n",
      "\n",
      "El total de soluciones es: 2\n"
     ]
    }
   ],
   "source": [
    "#n=int(input(\"Ingrese el numero de reinas: \")) \n",
    "n = 4\n",
    "solution = [] \n",
    "board = [[0 for i in range(n)]for j in range(n)]\n",
    "solve(board, 0)\n",
    "print(\"El total de soluciones es:\", len(solution))"
   ]
  },
  {
   "cell_type": "code",
   "execution_count": null,
   "metadata": {},
   "outputs": [],
   "source": []
  }
 ],
 "metadata": {
  "kernelspec": {
   "display_name": "Python 3",
   "language": "python",
   "name": "python3"
  },
  "language_info": {
   "codemirror_mode": {
    "name": "ipython",
    "version": 3
   },
   "file_extension": ".py",
   "mimetype": "text/x-python",
   "name": "python",
   "nbconvert_exporter": "python",
   "pygments_lexer": "ipython3",
   "version": "3.6.7"
  }
 },
 "nbformat": 4,
 "nbformat_minor": 2
}
