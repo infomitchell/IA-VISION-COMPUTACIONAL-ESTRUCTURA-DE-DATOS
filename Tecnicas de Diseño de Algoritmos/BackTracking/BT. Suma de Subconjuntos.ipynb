{
 "cells": [
  {
   "cell_type": "markdown",
   "metadata": {},
   "source": [
    "(c) 2019 Mitchell Blancas"
   ]
  },
  {
   "cell_type": "code",
   "execution_count": 1,
   "metadata": {},
   "outputs": [
    {
     "data": {
      "text/plain": [
       "'\\nOBJETIVO: Determinar todos los subconjuntos posibles de un arreglo \\ncuya suma sea igual a una variable \"M\" dada\\n'"
      ]
     },
     "execution_count": 1,
     "metadata": {},
     "output_type": "execute_result"
    }
   ],
   "source": [
    "'''\n",
    "OBJETIVO: Determinar todos los subconjuntos posibles de un arreglo \n",
    "cuya suma sea igual a una variable \"M\" dada\n",
    "'''"
   ]
  },
  {
   "cell_type": "code",
   "execution_count": 2,
   "metadata": {},
   "outputs": [],
   "source": [
    "def generate_sum_of_subsets_soln(nums, max_sum):\n",
    "\tresult = []\n",
    "\tpath = []\n",
    "\tnum_index = 0\n",
    "\tremaining_nums_sum = sum(nums)\n",
    "\tcreate_state_space_tree(nums, max_sum, num_index, path,result, remaining_nums_sum)\n",
    "\treturn result"
   ]
  },
  {
   "cell_type": "code",
   "execution_count": 3,
   "metadata": {},
   "outputs": [],
   "source": [
    "def create_state_space_tree(nums,max_sum,num_index,path,result, remaining_nums_sum):\n",
    "    '''\n",
    "    Crea un árbol de espacio de estado para iterar a través de cada rama usando búsqueda en profundidad.\n",
    "\n",
    "    '''\n",
    "    if sum(path) > max_sum or (remaining_nums_sum + sum(path)) < max_sum:\n",
    "        return\n",
    "    if sum(path) == max_sum:\n",
    "        result.append(path)\n",
    "        return\n",
    "    for num_index in range(num_index,len(nums)):\n",
    "        create_state_space_tree(nums, max_sum, num_index + 1, path + [nums[num_index]], result, remaining_nums_sum - nums[num_index])\n"
   ]
  },
  {
   "cell_type": "code",
   "execution_count": 4,
   "metadata": {},
   "outputs": [
    {
     "data": {
      "text/plain": [
       "'\\nrecibir una entrada del usuario\\n\\nprint(\"Ingrese los elementos\")\\nnums = list(map(int, input().split()))\\nprint(\"Ingrese suma maxima\")\\nmax_sum = int(input())\\n'"
      ]
     },
     "execution_count": 4,
     "metadata": {},
     "output_type": "execute_result"
    }
   ],
   "source": [
    "'''\n",
    "recibir una entrada del usuario\n",
    "\n",
    "print(\"Ingrese los elementos\")\n",
    "nums = list(map(int, input().split()))\n",
    "print(\"Ingrese suma maxima\")\n",
    "max_sum = int(input())\n",
    "'''"
   ]
  },
  {
   "cell_type": "code",
   "execution_count": 5,
   "metadata": {},
   "outputs": [
    {
     "name": "stdout",
     "output_type": "stream",
     "text": [
      "[3, 4, 1] [3, 5] [6, 2] [7, 1] [5, 2, 1]\n"
     ]
    }
   ],
   "source": [
    "nums = [3, 6 , 4, 7, 5, 2,1]\n",
    "max_sum = 8\n",
    "result = generate_sum_of_subsets_soln(nums,max_sum)\n",
    "print(*result)"
   ]
  },
  {
   "cell_type": "code",
   "execution_count": null,
   "metadata": {},
   "outputs": [],
   "source": []
  }
 ],
 "metadata": {
  "kernelspec": {
   "display_name": "Python 3",
   "language": "python",
   "name": "python3"
  },
  "language_info": {
   "codemirror_mode": {
    "name": "ipython",
    "version": 3
   },
   "file_extension": ".py",
   "mimetype": "text/x-python",
   "name": "python",
   "nbconvert_exporter": "python",
   "pygments_lexer": "ipython3",
   "version": "3.6.7"
  }
 },
 "nbformat": 4,
 "nbformat_minor": 2
}
