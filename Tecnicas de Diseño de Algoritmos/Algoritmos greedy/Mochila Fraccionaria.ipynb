{
 "cells": [
  {
   "cell_type": "markdown",
   "metadata": {},
   "source": [
    "(c) 2019 Mitchell Blancas"
   ]
  },
  {
   "cell_type": "code",
   "execution_count": 1,
   "metadata": {},
   "outputs": [],
   "source": [
    "class ItemValue: \n",
    "    \n",
    "    def __init__(self, wt, val, ind): \n",
    "        self.wt = wt \n",
    "        self.val = val \n",
    "        self.ind = ind \n",
    "        self.cost = val // wt \n",
    "  \n",
    "    def __lt__(self, other): \n",
    "        return self.cost < other.cost "
   ]
  },
  {
   "cell_type": "code",
   "execution_count": 2,
   "metadata": {},
   "outputs": [],
   "source": [
    "# Técnica Greedy\n",
    "class FractionalKnapSack: \n",
    "      \n",
    "    @staticmethod\n",
    "    def getMaxValue(wt, val, capacity): \n",
    "          \n",
    "        \"\"\"función para obtener el máximo valor \"\"\"\n",
    "        iVal = [] \n",
    "        for i in range(len(wt)): \n",
    "            iVal.append(ItemValue(wt[i], val[i], i)) \n",
    "  \n",
    "        # ordenamos los elementos por valor\n",
    "        iVal.sort(reverse = True) \n",
    "  \n",
    "        totalValue = 0\n",
    "        for i in iVal: \n",
    "            curWt = int(i.wt) \n",
    "            curVal = int(i.val) \n",
    "            if capacity - curWt >= 0: \n",
    "                capacity -= curWt \n",
    "                totalValue += curVal \n",
    "            else: \n",
    "                fraction = capacity / curWt \n",
    "                totalValue += curVal * fraction \n",
    "                capacity = int(capacity - (curWt * fraction)) \n",
    "                break\n",
    "        return totalValue "
   ]
  },
  {
   "cell_type": "code",
   "execution_count": 3,
   "metadata": {},
   "outputs": [
    {
     "name": "stdout",
     "output_type": "stream",
     "text": [
      "Valor máximo en la mochila = 240.0\n"
     ]
    }
   ],
   "source": [
    "if __name__ == \"__main__\": \n",
    "    wt = [10, 40, 20, 30] \n",
    "    val = [60, 40, 100, 120] \n",
    "    capacity = 50\n",
    "  \n",
    "    maxValue = FractionalKnapSack.getMaxValue(wt, val, capacity) \n",
    "    print(\"Valor máximo en la mochila =\", maxValue) "
   ]
  },
  {
   "cell_type": "code",
   "execution_count": null,
   "metadata": {},
   "outputs": [],
   "source": []
  }
 ],
 "metadata": {
  "kernelspec": {
   "display_name": "Python 3",
   "language": "python",
   "name": "python3"
  },
  "language_info": {
   "codemirror_mode": {
    "name": "ipython",
    "version": 3
   },
   "file_extension": ".py",
   "mimetype": "text/x-python",
   "name": "python",
   "nbconvert_exporter": "python",
   "pygments_lexer": "ipython3",
   "version": "3.6.7"
  }
 },
 "nbformat": 4,
 "nbformat_minor": 2
}
