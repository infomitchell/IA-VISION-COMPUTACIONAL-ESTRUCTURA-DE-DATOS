{
 "cells": [
  {
   "cell_type": "markdown",
   "metadata": {},
   "source": [
    "(c) 2019 Mitchell Blancas"
   ]
  },
  {
   "cell_type": "code",
   "execution_count": 1,
   "metadata": {},
   "outputs": [],
   "source": [
    "def findMin(V): \n",
    "      \n",
    "    # Tipos de monedas disponibles\n",
    "    deno = [1, 2, 5, 10, 20, 50,  \n",
    "            100] \n",
    "    n = len(deno) \n",
    "      \n",
    "    # Inicializar resultado \n",
    "    ans = [] \n",
    "  \n",
    "    # Recorrer todos los tipos de monedas\n",
    "    i = n - 1\n",
    "    while(i >= 0):           \n",
    "        # Encontrar los tipos adecuados\n",
    "        while (V >= deno[i]): \n",
    "            V -= deno[i] \n",
    "            ans.append(deno[i]) \n",
    "  \n",
    "        i -= 1\n",
    "  \n",
    "    # Imprimir resultado\n",
    "    for i in range(len(ans)): \n",
    "        print(ans[i], end = \" \") "
   ]
  },
  {
   "cell_type": "code",
   "execution_count": 2,
   "metadata": {},
   "outputs": [
    {
     "name": "stdout",
     "output_type": "stream",
     "text": [
      "El número mínimo de cambio para 293 es: 100 100 50 20 20 2 1 "
     ]
    }
   ],
   "source": [
    "n = 293\n",
    "print(\"El número mínimo\", \n",
    "          \"de cambio para\", n, \"es: \", end = \"\") \n",
    "findMin(n)"
   ]
  },
  {
   "cell_type": "code",
   "execution_count": null,
   "metadata": {},
   "outputs": [],
   "source": []
  }
 ],
 "metadata": {
  "kernelspec": {
   "display_name": "Python 3",
   "language": "python",
   "name": "python3"
  },
  "language_info": {
   "codemirror_mode": {
    "name": "ipython",
    "version": 3
   },
   "file_extension": ".py",
   "mimetype": "text/x-python",
   "name": "python",
   "nbconvert_exporter": "python",
   "pygments_lexer": "ipython3",
   "version": "3.6.7"
  }
 },
 "nbformat": 4,
 "nbformat_minor": 2
}
