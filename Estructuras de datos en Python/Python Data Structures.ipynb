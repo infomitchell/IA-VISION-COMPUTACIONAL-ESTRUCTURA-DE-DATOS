{
 "cells": [
  {
   "cell_type": "markdown",
   "metadata": {},
   "source": [
    "# Introduccion a las estructuras de datos en Python \n",
    "(c) 2019 Mitchell Blancas  \n",
    "## Lists, Tuples, Sets, Dicts\n",
    "****\n",
    "**indexing** - el indexado de cualquier estructura de datos empieza en cero"
   ]
  },
  {
   "cell_type": "code",
   "execution_count": 1,
   "metadata": {},
   "outputs": [],
   "source": [
    "# string (cadenas)\n",
    "x = 'rana'\n",
    "print (x[3])\n",
    "\n",
    "# list\n",
    "x = ['cerdo', 'vaca', 'caballo']\n",
    "print (x[1])"
   ]
  },
  {
   "cell_type": "markdown",
   "metadata": {},
   "source": [
    "**slicing** - cortar subcadenas, sublistas, subtuplas usando índices. \n",
    "[start : end+1 : step]"
   ]
  },
  {
   "cell_type": "code",
   "execution_count": 2,
   "metadata": {},
   "outputs": [],
   "source": [
    "x = 'computadora'\n",
    "print(x[1:4])\n",
    "print(x[1:6:2])\n",
    "print(x[3:])\n",
    "print(x[:5])\n",
    "print(x[-1])\n",
    "print(x[-3:])\n",
    "print(x[:-2])"
   ]
  },
  {
   "cell_type": "markdown",
   "metadata": {},
   "source": [
    "**adding / concatenating** - combina 2 secuencias del mismo tipo usando +"
   ]
  },
  {
   "cell_type": "code",
   "execution_count": 3,
   "metadata": {},
   "outputs": [
    {
     "name": "stdout",
     "output_type": "stream",
     "text": [
      "horseshoe\n",
      "['pig', 'cow', 'horse']\n"
     ]
    }
   ],
   "source": [
    "# string\n",
    "x = 'horse' + 'shoe'\n",
    "print(x)\n",
    "\n",
    "# list\n",
    "y = ['pig', 'cow'] + ['horse']\n",
    "print(y)"
   ]
  },
  {
   "cell_type": "markdown",
   "metadata": {},
   "source": [
    "**multiplying** - multiplicar una secuencia usando *"
   ]
  },
  {
   "cell_type": "code",
   "execution_count": 4,
   "metadata": {},
   "outputs": [
    {
     "name": "stdout",
     "output_type": "stream",
     "text": [
      "gatogatogato\n",
      "[8, 5, 8, 5, 8, 5]\n"
     ]
    }
   ],
   "source": [
    "# string\n",
    "x = 'gato' * 3\n",
    "print(x)\n",
    "\n",
    "# list\n",
    "y = [8, 5] * 3\n",
    "print(y)"
   ]
  },
  {
   "cell_type": "markdown",
   "metadata": {},
   "source": [
    "**checking membership** - prueba si un elemento está o no en una secuencia."
   ]
  },
  {
   "cell_type": "code",
   "execution_count": 5,
   "metadata": {},
   "outputs": [
    {
     "name": "stdout",
     "output_type": "stream",
     "text": [
      "True\n",
      "False\n"
     ]
    }
   ],
   "source": [
    "# string\n",
    "x = 'curso'\n",
    "print('u' in x)\n",
    "\n",
    "# list\n",
    "y = ['pig', 'cow', 'horse']\n",
    "print('cow' not in y)"
   ]
  },
  {
   "cell_type": "markdown",
   "metadata": {},
   "source": [
    "**iterating** - iterando a través de los elementos en una secuencia"
   ]
  },
  {
   "cell_type": "code",
   "execution_count": 6,
   "metadata": {},
   "outputs": [
    {
     "name": "stdout",
     "output_type": "stream",
     "text": [
      "7\n",
      "8\n",
      "3\n",
      "0 7\n",
      "1 8\n",
      "2 3\n"
     ]
    }
   ],
   "source": [
    "# item\n",
    "x = [7, 8, 3]\n",
    "for item in x:\n",
    "    print(item)\n",
    "    \n",
    "# index & item\n",
    "y = [7, 8, 3]\n",
    "for index, item in enumerate(y):\n",
    "    print(index, item)"
   ]
  },
  {
   "cell_type": "markdown",
   "metadata": {},
   "source": [
    "**number of items** - count the number of items in a sequence (no confundir la longitud de una cadena, con la de una lista)"
   ]
  },
  {
   "cell_type": "code",
   "execution_count": 7,
   "metadata": {},
   "outputs": [
    {
     "name": "stdout",
     "output_type": "stream",
     "text": [
      "5\n",
      "3\n"
     ]
    }
   ],
   "source": [
    "# string\n",
    "x = 'perro'\n",
    "print(len(x))\n",
    "\n",
    "# list\n",
    "y = ['pig', 'cow', 'horse']\n",
    "print(len(y))"
   ]
  },
  {
   "cell_type": "markdown",
   "metadata": {},
   "source": [
    "**minimum** - encuentre el elemento mínimo en una secuencia lexicográficamente.\n",
    " \n",
    "Tipos alfabéticos o numéricos, pero no pueden mezclar tipos."
   ]
  },
  {
   "cell_type": "code",
   "execution_count": 8,
   "metadata": {},
   "outputs": [
    {
     "name": "stdout",
     "output_type": "stream",
     "text": [
      "b\n",
      "cow\n"
     ]
    }
   ],
   "source": [
    "# string\n",
    "x = 'bug'\n",
    "print(min(x))\n",
    "\n",
    "# list\n",
    "y = ['pig', 'cow', 'horse']\n",
    "print(min(y))"
   ]
  },
  {
   "cell_type": "markdown",
   "metadata": {},
   "source": [
    "**maximum** - find the maximum item in a sequence lexicographically.  \n",
    "Alpha or numeric types, but cannot mix types."
   ]
  },
  {
   "cell_type": "code",
   "execution_count": 9,
   "metadata": {},
   "outputs": [
    {
     "name": "stdout",
     "output_type": "stream",
     "text": [
      "t\n",
      "pig\n"
     ]
    }
   ],
   "source": [
    "# string\n",
    "x = 'gato'\n",
    "print(max(x))\n",
    "\n",
    "# list\n",
    "y = ['pig', 'cow', 'horse']\n",
    "print(max(y))"
   ]
  },
  {
   "cell_type": "markdown",
   "metadata": {},
   "source": [
    "**sum** - Encuentra la suma de los elementos en una secuencia.\n",
    "Toda la secuencia debe ser numérica."
   ]
  },
  {
   "cell_type": "code",
   "execution_count": 10,
   "metadata": {},
   "outputs": [
    {
     "name": "stdout",
     "output_type": "stream",
     "text": [
      "24\n",
      "19\n"
     ]
    }
   ],
   "source": [
    "# string -> error\n",
    "# x = [5, 7, 'bug']\n",
    "# print(sum(x))    # genera un error\n",
    "\n",
    "# list\n",
    "y = [2, 3, 7, 12]\n",
    "print(sum(y))\n",
    "print(sum(y[-2:]))"
   ]
  },
  {
   "cell_type": "markdown",
   "metadata": {},
   "source": [
    "**sorting** - devuelve una nueva lista de artículos ordenados.\n",
    "No cambia la lista original."
   ]
  },
  {
   "cell_type": "code",
   "execution_count": 11,
   "metadata": {},
   "outputs": [
    {
     "name": "stdout",
     "output_type": "stream",
     "text": [
      "['e', 'o', 'p', 'r', 'r']\n",
      "['cow', 'horse', 'pig']\n"
     ]
    }
   ],
   "source": [
    "# string\n",
    "x = 'perro'\n",
    "print(sorted(x))\n",
    "\n",
    "# list\n",
    "y = ['pig', 'cow', 'horse']\n",
    "print(sorted(y))"
   ]
  },
  {
   "cell_type": "markdown",
   "metadata": {},
   "source": [
    "**count(item)** - devuelve el recuento de un artículo"
   ]
  },
  {
   "cell_type": "code",
   "execution_count": 12,
   "metadata": {},
   "outputs": [
    {
     "name": "stdout",
     "output_type": "stream",
     "text": [
      "3\n",
      "2\n"
     ]
    }
   ],
   "source": [
    "# string\n",
    "x = 'latinoamericano'\n",
    "print(x.count('a'))\n",
    "\n",
    "# list\n",
    "y = ['pig', 'cow', 'horse', 'cow']\n",
    "print(y.count('cow'))"
   ]
  },
  {
   "cell_type": "markdown",
   "metadata": {},
   "source": [
    "**index(item)** - Devuelve el índice de la primera aparición de un elemento."
   ]
  },
  {
   "cell_type": "code",
   "execution_count": 13,
   "metadata": {},
   "outputs": [
    {
     "name": "stdout",
     "output_type": "stream",
     "text": [
      "2\n",
      "1\n"
     ]
    }
   ],
   "source": [
    "# string\n",
    "x = 'hippo'\n",
    "print(x.index('p'))\n",
    "\n",
    "# list\n",
    "y = ['pig', 'cow', 'horse', 'cow']\n",
    "print(y.index('cow'))"
   ]
  },
  {
   "cell_type": "markdown",
   "metadata": {},
   "source": [
    "**unpacking** - descomprimir los n elementos de una secuencia en n variables"
   ]
  },
  {
   "cell_type": "code",
   "execution_count": 14,
   "metadata": {},
   "outputs": [
    {
     "name": "stdout",
     "output_type": "stream",
     "text": [
      "pig cow horse\n"
     ]
    }
   ],
   "source": [
    "x = ['pig', 'cow', 'horse']\n",
    "a, b, c = x\n",
    "print(a, b, c)"
   ]
  },
  {
   "cell_type": "markdown",
   "metadata": {},
   "source": [
    "## Listas  \n",
    "****\n",
    "- Propósito general\n",
    "- Estructura de datos más utilizada\n",
    "- Crecer y reducir el tamaño según sea necesario\n",
    "- Tipo de secuencia\n",
    "- Seleccionable \n",
    "\n",
    "**constructors** - creando una nueva lista"
   ]
  },
  {
   "cell_type": "code",
   "execution_count": 15,
   "metadata": {},
   "outputs": [
    {
     "name": "stdout",
     "output_type": "stream",
     "text": [
      "[0, 1, 2, 3, 4, 5, 6, 7]\n",
      "[25, 36, 49, 64, 81]\n"
     ]
    }
   ],
   "source": [
    "x = list()\n",
    "y = ['a', 25, 'perro', 8.43]\n",
    "tuple1 = (10, 20)\n",
    "z = list(tuple1)\n",
    "\n",
    "\n",
    "a = [m for m in range(8)]\n",
    "print(a)\n",
    "b = [i**2 for i in range(10) if i>4]\n",
    "print(b)"
   ]
  },
  {
   "cell_type": "markdown",
   "metadata": {},
   "source": [
    "**delete** - eliminar una lista o un elemento en una lista"
   ]
  },
  {
   "cell_type": "code",
   "execution_count": 16,
   "metadata": {},
   "outputs": [
    {
     "name": "stdout",
     "output_type": "stream",
     "text": [
      "[5, 8, 6]\n"
     ]
    }
   ],
   "source": [
    "x = [5, 3, 8, 6]\n",
    "del(x[1])\n",
    "print(x)\n",
    "del(x)    # la lista x ya no existe"
   ]
  },
  {
   "cell_type": "markdown",
   "metadata": {},
   "source": [
    "**append** - agregar un elemento a una lista"
   ]
  },
  {
   "cell_type": "code",
   "execution_count": 17,
   "metadata": {},
   "outputs": [
    {
     "name": "stdout",
     "output_type": "stream",
     "text": [
      "[5, 3, 8, 6, 7]\n"
     ]
    }
   ],
   "source": [
    "x = [5, 3, 8, 6]\n",
    "x.append(7)\n",
    "print(x)"
   ]
  },
  {
   "cell_type": "markdown",
   "metadata": {},
   "source": [
    "**extend** - agregar una secuencia a una lista"
   ]
  },
  {
   "cell_type": "code",
   "execution_count": 18,
   "metadata": {},
   "outputs": [
    {
     "name": "stdout",
     "output_type": "stream",
     "text": [
      "[5, 3, 8, 6, 12, 13]\n"
     ]
    }
   ],
   "source": [
    "x = [5, 3, 8, 6]\n",
    "y = [12, 13]\n",
    "x.extend(y)\n",
    "print(x)"
   ]
  },
  {
   "cell_type": "markdown",
   "metadata": {},
   "source": [
    "**insert** - insertar un elemento en un índice dado"
   ]
  },
  {
   "cell_type": "code",
   "execution_count": 19,
   "metadata": {},
   "outputs": [
    {
     "name": "stdout",
     "output_type": "stream",
     "text": [
      "[5, 7, 3, 8, 6]\n",
      "[5, ['a', 'm'], 7, 3, 8, 6]\n"
     ]
    }
   ],
   "source": [
    "x = [5, 3, 8, 6]\n",
    "x.insert(1, 7)\n",
    "print(x)\n",
    "x.insert(1, ['a', 'm'])\n",
    "print(x)"
   ]
  },
  {
   "cell_type": "markdown",
   "metadata": {},
   "source": [
    "**pop** - retira el último elemento de la lista y devuelve el artículo"
   ]
  },
  {
   "cell_type": "code",
   "execution_count": 20,
   "metadata": {},
   "outputs": [
    {
     "name": "stdout",
     "output_type": "stream",
     "text": [
      "[5, 3, 8]\n",
      "8\n"
     ]
    }
   ],
   "source": [
    "x = [5, 3, 8, 6]\n",
    "x.pop()    # pop off the 6\n",
    "print(x)\n",
    "print(x.pop())"
   ]
  },
  {
   "cell_type": "markdown",
   "metadata": {},
   "source": [
    "**remove** - eliminar la primera instancia de un elemento"
   ]
  },
  {
   "cell_type": "code",
   "execution_count": 21,
   "metadata": {},
   "outputs": [
    {
     "name": "stdout",
     "output_type": "stream",
     "text": [
      "[5, 8, 6, 3]\n"
     ]
    }
   ],
   "source": [
    "x = [5, 3, 8, 6, 3]\n",
    "x.remove(3)\n",
    "print(x)"
   ]
  },
  {
   "cell_type": "markdown",
   "metadata": {},
   "source": [
    "**reverse** - invertir el orden de la lista. Es una ordenación in situ, lo que significa que cambia la lista original."
   ]
  },
  {
   "cell_type": "code",
   "execution_count": 22,
   "metadata": {},
   "outputs": [
    {
     "name": "stdout",
     "output_type": "stream",
     "text": [
      "[6, 8, 3, 5]\n"
     ]
    }
   ],
   "source": [
    "x = [5, 3, 8, 6]\n",
    "x.reverse()\n",
    "print(x)"
   ]
  },
  {
   "cell_type": "markdown",
   "metadata": {},
   "source": [
    "**sort** - ordenar la lista en su lugar.\n",
    "Nota:\n",
    "sorted (x) devuelve una nueva lista ordenada sin cambiar la lista original x.\n",
    "x.sort () pone los elementos de x en orden ordenado (ordena en su lugar)."
   ]
  },
  {
   "cell_type": "code",
   "execution_count": 23,
   "metadata": {},
   "outputs": [
    {
     "name": "stdout",
     "output_type": "stream",
     "text": [
      "[3, 5, 6, 8]\n"
     ]
    }
   ],
   "source": [
    "x = [5, 3, 8, 6]\n",
    "x.sort()\n",
    "print(x)"
   ]
  },
  {
   "cell_type": "markdown",
   "metadata": {},
   "source": [
    "## Tuples\n",
    "****\n",
    "- Inmutable (no se puede agregar / cambiar)\n",
    "- Útil para datos fijos\n",
    "- Más rápido acceso, que las listas\n",
    "- Tipo de secuencia\n",
    "  \n",
    "**constructors** - creando nuevas tuplas."
   ]
  },
  {
   "cell_type": "code",
   "execution_count": 24,
   "metadata": {},
   "outputs": [
    {
     "name": "stdout",
     "output_type": "stream",
     "text": [
      "(2,) <class 'tuple'>\n",
      "(2, 4, 6) <class 'tuple'>\n"
     ]
    }
   ],
   "source": [
    "x = ()\n",
    "x = (1, 2, 3)\n",
    "x = 1, 2, 3\n",
    "x = 2,    # la coma le indica a Python que es una tupla\n",
    "print(x, type(x))\n",
    "\n",
    "list1 = [2, 4, 6]\n",
    "x = tuple(list1)\n",
    "print(x, type(x))"
   ]
  },
  {
   "cell_type": "markdown",
   "metadata": {},
   "source": [
    "**tuples are immutable**, pero los objetos miembros pueden ser mutables."
   ]
  },
  {
   "cell_type": "code",
   "execution_count": 25,
   "metadata": {},
   "outputs": [
    {
     "name": "stdout",
     "output_type": "stream",
     "text": [
      "(1, 2, 3)\n",
      "([1], 3)\n"
     ]
    }
   ],
   "source": [
    "x = (1, 2, 3)\n",
    "# del(x[1])       # falla\n",
    "# x[1] = 8        # falla\n",
    "print(x)\n",
    "\n",
    "y = ([1, 2], 3)   # una tupla donde el primer elemento es una lista\n",
    "del(y[0][1])      # eliminar el 2\n",
    "print(y)          # la lista dentro de la tupla es mutable"
   ]
  },
  {
   "cell_type": "markdown",
   "metadata": {},
   "source": [
    "## Sets\n",
    "****\n",
    "- Almacenar elementos no duplicados\n",
    "- Acceso muy rápido, con respecto a las listas\n",
    "- Conjunto de Operaciones (unión, intersección)\n",
    "- Los conjuntos no están ordenados\n",
    "  \n",
    "**constructors** - creando nuevos sets"
   ]
  },
  {
   "cell_type": "code",
   "execution_count": 26,
   "metadata": {},
   "outputs": [
    {
     "name": "stdout",
     "output_type": "stream",
     "text": [
      "{3, 5}\n",
      "set()\n",
      "{2, 3, 4}\n"
     ]
    }
   ],
   "source": [
    "x = {3, 5, 3, 5}\n",
    "print(x)\n",
    "\n",
    "y = set()\n",
    "print(y)\n",
    "\n",
    "list1 = [2, 3, 4]\n",
    "z = set(list1)\n",
    "print(z)"
   ]
  },
  {
   "cell_type": "markdown",
   "metadata": {},
   "source": [
    "**operaciones de set**"
   ]
  },
  {
   "cell_type": "code",
   "execution_count": 27,
   "metadata": {},
   "outputs": [
    {
     "name": "stdout",
     "output_type": "stream",
     "text": [
      "{8, 3, 5}\n",
      "{8, 3, 5, 7}\n",
      "{8, 5, 7}\n",
      "3\n",
      "True\n",
      "8 {5, 7}\n",
      "set()\n"
     ]
    }
   ],
   "source": [
    "x = {3, 8, 5}\n",
    "print(x)\n",
    "x.add(7)\n",
    "print(x)\n",
    "\n",
    "x.remove(3)\n",
    "print(x)\n",
    "\n",
    "# obtener la longitud del set x\n",
    "print(len(x))\n",
    "\n",
    "# verificar membresía en x\n",
    "print(5 in x)\n",
    "\n",
    "# Retirar elemento aleatorio del set x\n",
    "print(x.pop(), x)\n",
    "\n",
    "# eliminar todos los elementos del set x\n",
    "x.clear()\n",
    "print(x)"
   ]
  },
  {
   "cell_type": "markdown",
   "metadata": {},
   "source": [
    "**set de operaciones matematicas**  \n",
    "intersection (AND): set1 & set2  \n",
    "union (OR): set1 | set1  \n",
    "symmetric difference (XOR): set1 ^ set2\n",
    "difference (in set1 but not set2): set1 - set2  \n",
    "subset (set2 contains set1): set1 <= set2  \n",
    "superset (set1 contains set2): set1 >= set2"
   ]
  },
  {
   "cell_type": "code",
   "execution_count": 28,
   "metadata": {},
   "outputs": [
    {
     "name": "stdout",
     "output_type": "stream",
     "text": [
      "{3}\n",
      "{1, 2, 3, 4, 5}\n",
      "{1, 2, 4, 5}\n",
      "{1, 2}\n",
      "False\n",
      "False\n"
     ]
    }
   ],
   "source": [
    "s1 = {1, 2, 3}\n",
    "s2 = {3, 4, 5}\n",
    "print(s1 & s2)\n",
    "print(s1 | s2)\n",
    "print(s1 ^ s2)\n",
    "print(s1 - s2)\n",
    "print(s1 <= s2)\n",
    "print(s1 >= s2)"
   ]
  },
  {
   "cell_type": "markdown",
   "metadata": {},
   "source": [
    "## Diccionarios (dict)\n",
    "****\n",
    "- Key/Value pairs\n",
    "- Associative array...es como Java HashMap\n",
    "- Dicts estan desordenados"
   ]
  },
  {
   "cell_type": "code",
   "execution_count": 29,
   "metadata": {},
   "outputs": [
    {
     "name": "stdout",
     "output_type": "stream",
     "text": [
      "{'pork': 25.3, 'beef': 33.8, 'chicken': 22.7}\n",
      "{'pork': 25.3, 'beef': 33.8, 'chicken': 22.7}\n",
      "{'pork': 25.3, 'beef': 33.8, 'chicken': 22.7}\n"
     ]
    }
   ],
   "source": [
    "x = {'pork':25.3, 'beef':33.8, 'chicken':22.7}\n",
    "print(x)\n",
    "x = dict([('pork', 25.3),('beef', 33.8),('chicken', 22.7)])\n",
    "print(x)\n",
    "x = dict(pork=25.3, beef=33.8, chicken=22.7)\n",
    "print(x)"
   ]
  },
  {
   "cell_type": "code",
   "execution_count": 30,
   "metadata": {},
   "outputs": [
    {
     "name": "stdout",
     "output_type": "stream",
     "text": [
      "fruit\n"
     ]
    }
   ],
   "source": [
    "a = {'apple': 'fruit', 'beetroot': 'vegetable', 'cake': 'dessert'}\n",
    "a['doughnut'] = 'snack'\n",
    "print(a['apple'])"
   ]
  },
  {
   "cell_type": "markdown",
   "metadata": {},
   "source": [
    "**operaciones de dict**"
   ]
  },
  {
   "cell_type": "code",
   "execution_count": 31,
   "metadata": {},
   "outputs": [
    {
     "name": "stdout",
     "output_type": "stream",
     "text": [
      "{'apple': 'fruit', 'beetroot': 'vegetable', 'cake': 'dessert', 'shrimp': 'fish'}\n",
      "{'apple': 'fruit', 'beetroot': 'vegetable', 'cake': 'dessert'}\n",
      "3\n",
      "{}\n"
     ]
    }
   ],
   "source": [
    "x = {'apple': 'fruit', 'beetroot': 'vegetable', 'cake': 'dessert'}\n",
    "x['shrimp'] = 'fish'    # add or update\n",
    "print(x)\n",
    "\n",
    "# eliminar un elemento\n",
    "del(x['shrimp'])\n",
    "print(x)\n",
    "\n",
    "# obtener longitud de dict x\n",
    "print(len(x))\n",
    "\n",
    "# eliminar todos los elementos de dict x\n",
    "x.clear()\n",
    "print(x)\n",
    "\n",
    "# eliminar dict x\n",
    "del(x)"
   ]
  },
  {
   "cell_type": "markdown",
   "metadata": {},
   "source": [
    "**accediendo a keys y values en un dict**"
   ]
  },
  {
   "cell_type": "code",
   "execution_count": 32,
   "metadata": {},
   "outputs": [
    {
     "name": "stdout",
     "output_type": "stream",
     "text": [
      "dict_keys(['pork', 'beef', 'chicken'])\n",
      "dict_values([25.3, 33.8, 22.7])\n",
      "dict_items([('pork', 25.3), ('beef', 33.8), ('chicken', 22.7)])\n",
      "True\n",
      "False\n"
     ]
    }
   ],
   "source": [
    "y = {'pork':25.3, 'beef':33.8, 'chicken':22.7}\n",
    "print(y.keys())\n",
    "print(y.values())\n",
    "print(y.items())      \n",
    "\n",
    "# verificar membresía en y_keys (solo busca en claves, no en valores)\n",
    "print('beef' in y)\n",
    "\n",
    "# verificar membresía en y_values\n",
    "print('clams' in y.values())"
   ]
  },
  {
   "cell_type": "markdown",
   "metadata": {},
   "source": [
    "**iterando un dict ...los artículos están en orden aleatorio**"
   ]
  },
  {
   "cell_type": "code",
   "execution_count": 33,
   "metadata": {},
   "outputs": [
    {
     "name": "stdout",
     "output_type": "stream",
     "text": [
      "pork 25.3\n",
      "beef 33.8\n",
      "chicken 22.7\n",
      "pork 25.3\n",
      "beef 33.8\n",
      "chicken 22.7\n"
     ]
    }
   ],
   "source": [
    "for key in y:\n",
    "    print(key, y[key])\n",
    "    \n",
    "for k, v in y.items():\n",
    "    print(k, v)"
   ]
  },
  {
   "cell_type": "code",
   "execution_count": null,
   "metadata": {},
   "outputs": [],
   "source": []
  }
 ],
 "metadata": {
  "kernelspec": {
   "display_name": "Python 3",
   "language": "python",
   "name": "python3"
  },
  "language_info": {
   "codemirror_mode": {
    "name": "ipython",
    "version": 3
   },
   "file_extension": ".py",
   "mimetype": "text/x-python",
   "name": "python",
   "nbconvert_exporter": "python",
   "pygments_lexer": "ipython3",
   "version": "3.6.7"
  }
 },
 "nbformat": 4,
 "nbformat_minor": 2
}
