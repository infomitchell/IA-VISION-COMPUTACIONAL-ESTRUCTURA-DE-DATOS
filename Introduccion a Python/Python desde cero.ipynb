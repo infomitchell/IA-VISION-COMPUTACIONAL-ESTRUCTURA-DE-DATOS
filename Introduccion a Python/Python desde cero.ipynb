{
 "cells": [
  {
   "cell_type": "code",
   "execution_count": 1,
   "metadata": {},
   "outputs": [
    {
     "name": "stdout",
     "output_type": "stream",
     "text": [
      "Hola Mundo\n"
     ]
    }
   ],
   "source": [
    "# INTRODUCCIÓN A PYTHON\n",
    "# Autor: Mitchell Blancas , 2019\n",
    "# ------------------------------------------------\n",
    "# para imprimir, poner texto dentro de comillas simples o dobles, entre paréntesis.\n",
    "print('Hola Mundo')"
   ]
  },
  {
   "cell_type": "code",
   "execution_count": 2,
   "metadata": {},
   "outputs": [
    {
     "name": "stdout",
     "output_type": "stream",
     "text": [
      "24\n",
      "Nohely\n",
      "3.99\n"
     ]
    }
   ],
   "source": [
    "# VARIABLES \n",
    "# ------------------------------------------------\n",
    "# las variables se utilizan para el almacenamiento temporal de datos que pueden cambiar\n",
    "# un solo signo igual es el operador de asignación\n",
    "age = 24\n",
    "first_name = 'Nohely'\n",
    "gpa = 3.99\n",
    "print(age)\n",
    "print(first_name)\n",
    "print(gpa)"
   ]
  },
  {
   "cell_type": "code",
   "execution_count": 3,
   "metadata": {},
   "outputs": [
    {
     "name": "stdout",
     "output_type": "stream",
     "text": [
      "<class 'int'>\n",
      "<class 'str'>\n",
      "<class 'float'>\n"
     ]
    }
   ],
   "source": [
    "# aquí podemos ver tres tipos diferentes de datos almacenados en variables: un entero, una cadena y un flotante.\n",
    "# No es necesario declarar el tipo de datos almacenado en cada variable. Python hace eso por ti.\n",
    "# Puedes saber qué tipo de datos tiene una variable usando la función type ()\n",
    "print(type(age))\n",
    "print(type(first_name))\n",
    "print(type(gpa))"
   ]
  },
  {
   "cell_type": "code",
   "execution_count": 4,
   "metadata": {},
   "outputs": [
    {
     "name": "stdout",
     "output_type": "stream",
     "text": [
      "<class 'float'>\n",
      "26.2 <class 'float'>\n"
     ]
    }
   ],
   "source": [
    "# \"las variables se tifican dinámicamente\" - Python verifica el tipo en tiempo de ejecución\n",
    "age = 26.2\n",
    "print(type(age))\n",
    "print(age, type(age))"
   ]
  },
  {
   "cell_type": "code",
   "execution_count": 5,
   "metadata": {},
   "outputs": [
    {
     "name": "stdout",
     "output_type": "stream",
     "text": [
      "2217324327440\n"
     ]
    }
   ],
   "source": [
    "# consejos para definir variables:\n",
    "#----------------------------------------\n",
    "# puede tener letras, números y guiones bajos, pero no puede comenzar con un dígito\n",
    "# algunas palabras reservadas de Python no se pueden usar\n",
    "# Sencible a Mayusculas\n",
    "# constantes en mayúsculas: PI = 3.14159\n",
    "# cada variable de Python es un puntero a los datos almacenados en algún lugar de la memoria\n",
    "# obtener la ubicación de memoria de una variable usando la función id ()\n",
    "print(id(age))"
   ]
  },
  {
   "cell_type": "code",
   "execution_count": 6,
   "metadata": {},
   "outputs": [
    {
     "name": "stdout",
     "output_type": "stream",
     "text": [
      "x = 10 y = 5\n"
     ]
    }
   ],
   "source": [
    "#  intercambiar valores entre variables:\n",
    "x = 5\n",
    "y = 10\n",
    "x, y = y, x\n",
    "print('x =', x, 'y =', y)"
   ]
  },
  {
   "cell_type": "code",
   "execution_count": 7,
   "metadata": {},
   "outputs": [
    {
     "name": "stdout",
     "output_type": "stream",
     "text": [
      "True\n",
      "True\n",
      "True\n",
      "True\n",
      "False\n",
      "False\n",
      "False\n"
     ]
    }
   ],
   "source": [
    "# VALORES BOOLEANOS - True or False\n",
    "# ------------------------------------------------\n",
    "# los siguientes casos devuelven False: 0, 0.0, [], \"\", None\n",
    "# los siguientes casos devuelven True: cualquier número distinto de cero, cualquier cadena, lista o conjunto no vacío\n",
    "print(bool(1))    # True\n",
    "print(bool('perro'))\n",
    "print(bool(10.78))\n",
    "print(bool(0 or 1))\n",
    "print(bool(0))    # False\n",
    "print(bool(''))\n",
    "print(bool(0 and 1))"
   ]
  },
  {
   "cell_type": "code",
   "execution_count": 8,
   "metadata": {},
   "outputs": [
    {
     "name": "stdout",
     "output_type": "stream",
     "text": [
      "12 <class 'int'>\n",
      "-2 <class 'int'>\n",
      "1.75 <class 'float'>\n",
      "1 <class 'int'>\n",
      "3\n",
      "64\n"
     ]
    }
   ],
   "source": [
    "# FUNCIONES MATEMÁTICAS\n",
    "# ------------------------------------------------\n",
    "# las funciones aritméticas son: sumar, restar, multiplicar, dividir, potencia, división de enteros y módulo (mod o resto)\n",
    "# + Adición\n",
    "# - Resta\n",
    "# * Multiplicación\n",
    "# / División\n",
    "# \t// División entera\n",
    "#% Módulo (resto de división)\n",
    "# \t** Potencia\n",
    "x = 5 + 7\n",
    "print(x, type(x))\n",
    "x = 5 - 7\n",
    "print(x, type(x))\n",
    "x = 7 / 4\n",
    "print(x, type(x))\n",
    "x = 7 // 4\n",
    "print(x, type(x))\n",
    "x = 7 % 4\n",
    "print(x)\n",
    "x = 4 ** 3\n",
    "print(x)"
   ]
  },
  {
   "cell_type": "code",
   "execution_count": 9,
   "metadata": {},
   "outputs": [
    {
     "name": "stdout",
     "output_type": "stream",
     "text": [
      "7\n",
      "7\n"
     ]
    }
   ],
   "source": [
    "# x += 5 es lo mismo que decir x = x + 5\n",
    "x = 2\n",
    "x = x + 5\n",
    "print(x)\n",
    "\n",
    "x = 2\n",
    "x += 5\n",
    "print(x)"
   ]
  },
  {
   "cell_type": "code",
   "execution_count": 10,
   "metadata": {},
   "outputs": [
    {
     "name": "stdout",
     "output_type": "stream",
     "text": [
      "4\n"
     ]
    }
   ],
   "source": [
    "# Orden de operaciones\n",
    "#\t1. ( )\n",
    "#\t2. **\n",
    "#\t3. * / // %\n",
    "#\t4. + -\n",
    "#\tEjemplo: 1 + 5 ** (3 // 2) - 6 % 4 => 4\n",
    "x = 1 + 5 ** (3 // 2) - 6 % 4\n",
    "print(x)"
   ]
  },
  {
   "cell_type": "code",
   "execution_count": 11,
   "metadata": {},
   "outputs": [
    {
     "name": "stdout",
     "output_type": "stream",
     "text": [
      "Cual es tu nombre? Mitchell\n",
      "Hola, Mitchell\n",
      "Que edad tienes? 30\n",
      "Edad = 30 <class 'int'>\n",
      "Ingrese la base: 5\n",
      "Ingrese la altura: 6\n",
      "Area =  15.0\n"
     ]
    }
   ],
   "source": [
    "# ENTRADAS POR CONSOLA\n",
    "# ------------------------------------------------\n",
    "# Obtener entrada desde el teclado\n",
    "name = input('Cual es tu nombre? ')\n",
    "print(\"Hola,\", name)\n",
    "age = eval(input('Que edad tienes? '))\n",
    "print('Edad =', age, type(age))\n",
    "\n",
    "# calcular el área de un triángulo\n",
    "base = eval(input('Ingrese la base: '))\n",
    "height = eval(input('Ingrese la altura: '))\n",
    "area = base * height / 2\n",
    "print ('Area = ', area)"
   ]
  },
  {
   "cell_type": "code",
   "execution_count": 12,
   "metadata": {},
   "outputs": [
    {
     "data": {
      "text/plain": [
       "' TRES sets de \\ncomillas dobles \\nfuncionan también '"
      ]
     },
     "execution_count": 12,
     "metadata": {},
     "output_type": "execute_result"
    }
   ],
   "source": [
    "# COMMENTS\n",
    "# ------------------------------------------------\n",
    "# \"Hash tag\" para comentario de una sola línea\n",
    "\n",
    "'''\n",
    "TRES sets de \n",
    "comillas simples \n",
    "para comentarios \n",
    "de varias líneas\n",
    "'''\n",
    "\n",
    "\"\"\" TRES sets de \n",
    "comillas dobles \n",
    "funcionan también \"\"\""
   ]
  },
  {
   "cell_type": "code",
   "execution_count": 13,
   "metadata": {},
   "outputs": [
    {
     "name": "stdout",
     "output_type": "stream",
     "text": [
      "True\n",
      "False\n",
      "True\n",
      "True\n",
      "Mayor de edad.\n",
      "Nota: C\n",
      "Genial!\n",
      "10\n"
     ]
    }
   ],
   "source": [
    "# DECLARACIONES  IF-ELIF-ELSE\n",
    "# ------------------------------------------------\n",
    "# requiere una expresión booleana\n",
    "x = 69\n",
    "print(x > 50)\n",
    "print(x == 50)\n",
    "print(x != 50)\n",
    "\n",
    "my_age = 19\n",
    "print(my_age > 18)\n",
    "if my_age >= 18:\n",
    "    print(\"Mayor de edad.\")\n",
    "else:\n",
    "    print(\"Aun menor de edad.\")\n",
    "    print(\"Vuelva el otro año.\")\n",
    "\n",
    "score = 72\n",
    "if score > 90:\n",
    "    print('Nota: A')\n",
    "elif score > 80:\n",
    "    print('Nota: B')\n",
    "elif score > 70:\n",
    "    print('Nota: C')\n",
    "elif score > 60:\n",
    "    print('Nota: D')\n",
    "else:\n",
    "    print('Nota: F')\n",
    "\t\n",
    "# puede tener múltiples condiciones en un if, usando y / o\n",
    "my_age = 19\n",
    "grade = 'C'\n",
    "if my_age > 18 and grade == 'A':\n",
    "    print('A festejar!')\n",
    "\n",
    "# instrucciones if anidadas: ambas condiciones deben ser True\n",
    "my_age = 19\n",
    "grade = 'A'\n",
    "if my_age > 18:\n",
    "    if grade == 'A':\n",
    "        print('Genial!')\n",
    "\n",
    "# si es ternaria\n",
    "x = 10\n",
    "y = 20\n",
    "# acción (if condición verdadera) / else (condición falsa)\n",
    "z = x + y if x > y else y - x\n",
    "print(z)\n",
    "# result 10"
   ]
  },
  {
   "cell_type": "code",
   "execution_count": 14,
   "metadata": {},
   "outputs": [
    {
     "name": "stdout",
     "output_type": "stream",
     "text": [
      "Hola\n",
      "4\n",
      "a\n",
      "ol\n",
      "Hola Amigo! |\n",
      "Hola Amigo!|\n",
      "Hola Amigo\n",
      "hola amigo!\n",
      "HOLA \n",
      "Hola Amigo!\n",
      "Saludos amigo!\n",
      "Hola amigo!\n",
      "2\n",
      "2\n",
      "False\n",
      "True\n",
      "True\n",
      "False\n",
      "False\n",
      "False\n",
      "True\n",
      "False\n",
      "['Hola', 'amigo!']\n",
      "['5', '7', '9']\n",
      "['73', '294']\n",
      "H \t o \t l\n",
      "Hola\n",
      "amigo!\n"
     ]
    }
   ],
   "source": [
    "# STRINGS (CADENAS)\n",
    "# ------------------------------------------------\n",
    "# una cadena es una secuencia de caracteres\n",
    "s = 'Hola'\n",
    "print(s)\n",
    "print(len(s))\n",
    "print(s[3])\n",
    "print(s[1:3])\n",
    "t = ' Amigo! '\n",
    "s += t\n",
    "print(s + '|')\n",
    "print(s.strip() + '|')\n",
    "s = s.rstrip('! ')\n",
    "print(s)\n",
    "\n",
    "s = 'Hola amigo!'\n",
    "print(s.lower())\n",
    "print(s.upper()[:5])\n",
    "print(s.title())\n",
    "print(s.replace('Hola', 'Saludos'))\n",
    "print(s)\n",
    "print(s.count('o'))\n",
    "print(s.find('l'))\n",
    "print('lud' in s)\n",
    "print('X' not in s)\n",
    "print(s.startswith('Hol'))\n",
    "print(s.endswith('cat'))\n",
    "print(s > 'Hon')\n",
    "print(s.isalpha())\n",
    "print(s[0:4].isalpha())\n",
    "print(s.isnumeric())\n",
    "\n",
    "print(s.split())\n",
    "print('5,7,9'.split(','))\n",
    "print('73.294'.split('.'))\n",
    "\n",
    "print(s[0], '\\t', s[1], '\\t', s[2])\n",
    "print(s[:s.find(' ')] + '\\n' + s[s.find(' ')+1:])\n"
   ]
  },
  {
   "cell_type": "code",
   "execution_count": 15,
   "metadata": {},
   "outputs": [
    {
     "name": "stdout",
     "output_type": "stream",
     "text": [
      "G\n",
      "a\n",
      "t\n",
      "Gat\n",
      "Gt\n",
      "012\n",
      "G\n",
      "a\n",
      "t\n",
      "t\n",
      "a\n",
      "G\n",
      "taG\n",
      "ha\n",
      "ha\n",
      "ha\n"
     ]
    }
   ],
   "source": [
    "# BUCLES -- FOR, WHILE\n",
    "# ------------------------------------------------\n",
    "# utilizado para recorrer los elementos de una cadena o lista\n",
    "# Indentacion es importante.\n",
    "# cada instrucción indentada de for se ejecutará cada iteración\n",
    "s = 'Gat'\n",
    "for letter in s:\n",
    "    print(letter)\n",
    "for letter in s:\n",
    "    print(letter, end='')\n",
    "print()\n",
    "\n",
    "# si está dentro de un bucle for. La indentinacion es importante.\n",
    "for pig in s:\n",
    "    if pig != 'a':\n",
    "        print(pig, end='')\n",
    "print()\n",
    "for i in range(len(s)):\n",
    "    print(i, end='')\n",
    "print()\n",
    "for i in range(len(s)):\n",
    "    print(s[i])\n",
    "for i in range(len(s)-1, -1, -1):\n",
    "    print(s[i])\n",
    "print(s[::-1])\n",
    "\n",
    "# while es otra alternativa  para \"for\". \n",
    "# comprueban una condicion en cada iteración y salen del bucle cuando la condicion es Falsa\n",
    "x = 2\n",
    "while x < 5:\n",
    "    print('ha')\n",
    "    x += 1"
   ]
  },
  {
   "cell_type": "code",
   "execution_count": 16,
   "metadata": {},
   "outputs": [
    {
     "name": "stdout",
     "output_type": "stream",
     "text": [
      "5 125\n",
      "8\n",
      "27\n",
      "Area: 6.0  Perimetro: 12\n",
      "6.0 12\n",
      "6.0 12\n"
     ]
    }
   ],
   "source": [
    "# FUNCIONES\n",
    "# ------------------------------------------------\n",
    "# usa la palabra clave \"def\" para crear una función\n",
    "# asigne un nombre a la función, seguido de paréntesis y dos puntos\n",
    "# puede pasar 0 o más variables como parámetros.\n",
    "# puede devolver 0 o más variables.\n",
    "# INDENTACION es importante.\n",
    "\n",
    "def cuber(num):\n",
    "\tnum_cubed = num * num * num\n",
    "\treturn num_cubed\n",
    "\t\n",
    "# llamada a la función \"cuber\" y recibe como parámetro 5:\n",
    "cuber(5)\n",
    "\n",
    "# podemos asignar el resultado de una funcion a una variableee\n",
    "x = 5\n",
    "x_cubed = cuber(x)\n",
    "print(x, x_cubed)\n",
    "\n",
    "\n",
    "#puede establecer valores predeterminados para parámetros\n",
    "def cuber(num = 2):\n",
    "\tnum_cubed = num * num * num\n",
    "\treturn num_cubed\n",
    "\t\n",
    "print(cuber())\t\t# use por defecto parametro con valor 2\n",
    "print(cuber(3))\t\t# 3, cambia el parametro predeterminado\n",
    "\n",
    "\n",
    "# puede pasar múltiples valores y devolver múltiples valores\n",
    "# pero el orden es importante\n",
    "def solve_triangle(base, height, side1, side2, side3):\n",
    "\tarea = base * height / 2\n",
    "\tperimeter = side1 + side2 + side3\n",
    "\treturn area, perimeter\n",
    "\t\n",
    "area, perim = solve_triangle(3, 4, 5, 3, 4)\t# b=3, h=4, s1=5, s2=3, s3=4\n",
    "print('Area:', area, ' Perimetro:', perim)\n",
    "\n",
    "\n",
    "# Los parametros previos de arriba se llaman \"parametros posicionales\", y el orden es importante\n",
    "# también se puede pasar \"parametros de palabras clave\" al llamar a una función\n",
    "a, p = solve_triangle(side1=5, side2=3, side3=4, height=4, base=3)\n",
    "print(a, p)\n",
    "\n",
    "# o use una combinación de ambos, pero los argumentos posicionales deben ir primero\n",
    "a, p = solve_triangle(3, 4, side3=4, side2=3, side1=5)\n",
    "print(a, p)"
   ]
  },
  {
   "cell_type": "code",
   "execution_count": 17,
   "metadata": {},
   "outputs": [
    {
     "name": "stdout",
     "output_type": "stream",
     "text": [
      "Radio = 3\n",
      "Perimetro = 18.84\n"
     ]
    }
   ],
   "source": [
    "# CLASES Y OBJETOS\n",
    "# ------------------------------------------------\n",
    "# Usa clases para modelar cosas del mundo real.\n",
    "# Mantenga los datos relacionados (variables) y las acciones (funciones) en un bloque de código.\n",
    "class Circle:\n",
    "\t# Constructor: el método __init__ crea un nuevo objeto Circle\n",
    "\tdef __init__(self, r = 1):\n",
    "\t\tself.radius = r\n",
    "\t\t\n",
    "\tdef getPerimeter(self):\n",
    "\t\treturn 2 * self.radius * 3.14\n",
    "\t\t\n",
    "\tdef getArea(self):\n",
    "\t\treturn self.radius ** 2 * 3.14\n",
    "# todos los métodos tienen el parámetro \"self\", que es la referencia de Python al objeto que invocó el método\n",
    "\n",
    "# Esto llama al método __init__, que crea el nuevo círculo\n",
    "circle1 = Circle(3)\t\t\n",
    "# puedes acceder a los atributos y métodos del círculo usando el operador de punto\n",
    "print(\"Radio =\", circle1.radius)\n",
    "print(\"Perimetro =\", circle1.getPerimeter())\t"
   ]
  },
  {
   "cell_type": "code",
   "execution_count": 18,
   "metadata": {},
   "outputs": [
    {
     "name": "stdout",
     "output_type": "stream",
     "text": [
      "3.141592653589793\n",
      "3\n",
      "3.141592653589793\n",
      "2\n",
      "3.141592653589793\n",
      "5\n",
      "['c', 'a', 'b']\n",
      "['b', 'a', 'c']\n",
      "5\n"
     ]
    }
   ],
   "source": [
    "# IMPORTACIONES\n",
    "# ------------------------------------------------\n",
    "# Python tiene muchas clases ya escritas que puedes usar\n",
    "# Para acceder a métodos y datos de otra clase, debe importarlo\n",
    "import math\n",
    "print(math.pi)\n",
    "\n",
    "import random\n",
    "print(random.randint(1,5))\n",
    "\n",
    "# versión más corta, usando \"as\" para abreviar el nombre del módulo\n",
    "import math as m\n",
    "print(m.pi)\n",
    "\n",
    "import random as rd\n",
    "print(rd.randint(1,5))\n",
    "\n",
    "# importar solo una o dos funciones o constantes en lugar de un módulo completo\n",
    "# más fácil para la codificación, pero hay que tener cuidado de que los nombres no entren en conflicto\n",
    "from math import pi\n",
    "print(pi)\n",
    "\n",
    "from random import randint, shuffle\n",
    "print(randint(1,5))\n",
    "x = ['a', 'b', 'c']\n",
    "shuffle(x)\n",
    "print(x)\n",
    "\n",
    "# puede cambiar el nombre de una función importada si lo desea\n",
    "x = ['a', 'b', 'c']\n",
    "from random import shuffle as sf\n",
    "sf(x)\n",
    "print(x)\n",
    "\n",
    "# # también puede importar el módulo completo usando *\n",
    "from random import *\n",
    "print(randint(1,5))"
   ]
  },
  {
   "cell_type": "code",
   "execution_count": 19,
   "metadata": {},
   "outputs": [
    {
     "name": "stdout",
     "output_type": "stream",
     "text": [
      "Archivo original:\n",
      "Country Code,Country Name,City Name,City Population\n",
      "\n",
      "08,US,San Jose,70\n",
      "\n",
      "09,Canada,Vancouver,30\n",
      "\n",
      "08,US,San Francisco,90\n",
      "\n",
      "07,China,Beijing,40\n",
      "\n",
      "Archivo usando split en las filas\n",
      "Country: US  City: San Jose\n",
      "Country: Canada  City: Vancouver\n",
      "Country: US  City: San Francisco\n",
      "Country: China  City: Beijing\n"
     ]
    }
   ],
   "source": [
    "# LECTURA  & ESCRITURA DE ARCHIVOS\n",
    "# ------------------------------------------------\n",
    "filename = 'city_data.txt'\n",
    "\n",
    "# esto abre un identificador de archivo llamado \"fin\", itera las líneas del archivo e imprime cada línea\n",
    "print (\"Archivo original:\")\n",
    "with open(filename) as fin:\n",
    "    for line in fin:\n",
    "        print(line)\n",
    "\n",
    "#podemos obtener palabras de una línea usando \"split\", que convierte cada línea en una lista llamada \"row\"\n",
    "\n",
    "print (\"\\nArchivo usando split en las filas\")\n",
    "with open(filename) as fin:\n",
    "    fin.readline()\n",
    "    for line in fin:\n",
    "        row = line.split(',')\n",
    "        print('Country:', row[1], ' City:', row[2])\n",
    "\n",
    "# Escritura en un archivo: use el parámetro \"w\" para escribir en un archivo de salida\n",
    "with open('Cities.txt', 'w') as fout:\n",
    "    with open(filename) as fin:\n",
    "        fin.readline()\n",
    "        for line in fin:\n",
    "            row = line.split(',')\n",
    "            fout.write(row[2] + '\\n')\n"
   ]
  },
  {
   "cell_type": "code",
   "execution_count": null,
   "metadata": {},
   "outputs": [],
   "source": []
  }
 ],
 "metadata": {
  "kernelspec": {
   "display_name": "Python 3",
   "language": "python",
   "name": "python3"
  },
  "language_info": {
   "codemirror_mode": {
    "name": "ipython",
    "version": 3
   },
   "file_extension": ".py",
   "mimetype": "text/x-python",
   "name": "python",
   "nbconvert_exporter": "python",
   "pygments_lexer": "ipython3",
   "version": "3.6.7"
  }
 },
 "nbformat": 4,
 "nbformat_minor": 2
}
