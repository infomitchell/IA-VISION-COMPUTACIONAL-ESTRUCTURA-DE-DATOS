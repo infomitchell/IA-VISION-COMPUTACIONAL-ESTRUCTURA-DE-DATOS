{
 "cells": [
  {
   "cell_type": "code",
   "execution_count": 1,
   "metadata": {},
   "outputs": [],
   "source": [
    "import cv2\n",
    "\n",
    "capture = cv2.VideoCapture(0)\n",
    "  \n",
    "while(True):\n",
    "      \n",
    "    ret, frame = capture.read()\n",
    " \n",
    "    grayFrame = cv2.cvtColor(frame, cv2.COLOR_BGR2GRAY)\n",
    "    (thresh, blackAndWhiteImage) = cv2.threshold(grayFrame, 127, 255, cv2.THRESH_BINARY)\n",
    "    cv2.imshow('Imagen en blanco y negro', blackAndWhiteImage) \n",
    "    cv2.imshow('video original', frame)\n",
    "    cv2.imshow('video gray', grayFrame)\n",
    "  \n",
    "    if cv2.waitKey(1) == 27: #pesionar \"escape\" para salir\n",
    "        break\n",
    "  \n",
    "capture.release()\n",
    "cv2.destroyAllWindows()"
   ]
  },
  {
   "cell_type": "code",
   "execution_count": null,
   "metadata": {},
   "outputs": [],
   "source": []
  }
 ],
 "metadata": {
  "kernelspec": {
   "display_name": "Python 3",
   "language": "python",
   "name": "python3"
  },
  "language_info": {
   "codemirror_mode": {
    "name": "ipython",
    "version": 3
   },
   "file_extension": ".py",
   "mimetype": "text/x-python",
   "name": "python",
   "nbconvert_exporter": "python",
   "pygments_lexer": "ipython3",
   "version": "3.6.7"
  }
 },
 "nbformat": 4,
 "nbformat_minor": 2
}
