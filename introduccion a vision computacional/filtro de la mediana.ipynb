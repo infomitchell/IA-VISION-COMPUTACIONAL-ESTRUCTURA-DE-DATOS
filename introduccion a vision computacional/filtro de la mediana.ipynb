{
 "cells": [
  {
   "cell_type": "code",
   "execution_count": 1,
   "metadata": {},
   "outputs": [],
   "source": [
    "import cv2\n",
    "import numpy as np"
   ]
  },
  {
   "cell_type": "code",
   "execution_count": 2,
   "metadata": {
    "colab": {},
    "colab_type": "code",
    "id": "FfsgBO3ohxnA"
   },
   "outputs": [],
   "source": [
    "def median_filter(gray_img, mask=3):\n",
    "    # establecer bordes de la imagen\n",
    "    bd = int(mask / 2)\n",
    "    # copiar tamaño de la imagen\n",
    "    median_img = np.zeros_like(gray_img)\n",
    "    for i in range(bd, gray_img.shape[0] - bd):\n",
    "        for j in range(bd, gray_img.shape[1] - bd):\n",
    "            kernel = np.ravel(gray_img[i - bd:i + bd + 1, j - bd:j + bd + 1])\n",
    "            # calcular mascara de la mediana\n",
    "            median = np.sort(kernel)[np.int8(np.divide((np.multiply(mask, mask)), 2) + 1)]\n",
    "            median_img[i, j] = median\n",
    "    return median_img"
   ]
  },
  {
   "cell_type": "markdown",
   "metadata": {
    "colab_type": "text",
    "id": "8RHnMyt8Kmej"
   },
   "source": [
    "5"
   ]
  },
  {
   "cell_type": "code",
   "execution_count": 3,
   "metadata": {
    "colab": {
     "base_uri": "https://localhost:8080/",
     "height": 521
    },
    "colab_type": "code",
    "id": "w0WRK-cpwqPZ",
    "outputId": "cd9eb844-a315-404a-fd6a-aa4639d4be7f"
   },
   "outputs": [],
   "source": [
    "lena = cv2.imread('Lenna_(test_image).png')\n",
    "gray = cv2.cvtColor(lena, cv2.COLOR_BGR2GRAY) #otra forma de convertir a escala de grises\n",
    "median3x3 = median_filter(gray, 3)\n",
    "median5x5 = median_filter(gray, 5)\n",
    "cv2.imshow('filtro de la mediana con mascara de 3x3', median3x3)\n",
    "cv2.imshow('filtro de la mediana con mascara de 5x5', median5x5)\n",
    "cv2.waitKey(0)\n",
    "cv2.destroyAllWindows()"
   ]
  },
  {
   "cell_type": "code",
   "execution_count": null,
   "metadata": {},
   "outputs": [],
   "source": []
  }
 ],
 "metadata": {
  "colab": {
   "collapsed_sections": [],
   "name": "Untitled0.ipynb",
   "provenance": []
  },
  "kernelspec": {
   "display_name": "Python 3",
   "language": "python",
   "name": "python3"
  },
  "language_info": {
   "codemirror_mode": {
    "name": "ipython",
    "version": 3
   },
   "file_extension": ".py",
   "mimetype": "text/x-python",
   "name": "python",
   "nbconvert_exporter": "python",
   "pygments_lexer": "ipython3",
   "version": "3.6.7"
  }
 },
 "nbformat": 4,
 "nbformat_minor": 1
}
