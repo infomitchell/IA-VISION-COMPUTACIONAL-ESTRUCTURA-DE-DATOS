{
 "cells": [
  {
   "cell_type": "code",
   "execution_count": 1,
   "metadata": {},
   "outputs": [],
   "source": [
    "import cv2\n",
    " \n",
    "image = cv2.imread('Lenna_(test_image).png')\n",
    " \n",
    "cv2.rectangle(image, pt1 = (400, 270), pt2 = (480, 30), color = (255, 0, 0), thickness = 3)\n",
    "cv2.rectangle(image, pt1 = (230, 380), pt2 = (360, 210), color = (0, 255, 0), thickness = 3)\n",
    "\n",
    "cv2.circle(image,(100, 0), 25, (0,255,0),thickness = 2)\n",
    "cv2.circle(image,(0, 100), 25, (0,0,255),thickness = 2) \n",
    "cv2.circle(image,(100, 100), 50, (255,0,0), thickness = 3)\n",
    " \n",
    "cv2.imshow('Imagen con rectangulos y circulos',image)\n",
    "cv2.waitKey(0)\n",
    "cv2.destroyAllWindows()"
   ]
  },
  {
   "cell_type": "code",
   "execution_count": 2,
   "metadata": {},
   "outputs": [],
   "source": [
    "import cv2\n",
    "import numpy as np\n",
    "\n",
    "drawing = False\n",
    "ix = -1\n",
    "iy = -1\n",
    "\n",
    "def draw_rectangle(event, x, y, flags, params):\n",
    "\n",
    "    global ix, iy, drawing\n",
    "\n",
    "    if event == cv2.EVENT_LBUTTONDOWN:\n",
    "        drawing = True\n",
    "        ix, iy = x, y\n",
    "        \n",
    "    elif event == cv2.EVENT_MOUSEMOVE:\n",
    "        if drawing == True:\n",
    "            cv2.rectangle(img, pt1 = (ix, iy), pt2 = (x, y), \n",
    "                          color = (87, 184, 237), thickness = -1)\n",
    "            \n",
    "    elif event == cv2.EVENT_LBUTTONUP:\n",
    "        drawing = False\n",
    "        cv2.rectangle(img, pt1 = (ix, iy), pt2 = (x, y), \n",
    "                      color = (87, 184, 237), thickness = -1)\n",
    "        \n",
    "img = cv2.imread('map.png')\n",
    "\n",
    "cv2.namedWindow(winname = 'dibuja_rectangulos')\n",
    "cv2.setMouseCallback('dibuja_rectangulos', draw_rectangle)\n",
    "\n",
    "\n",
    "while True: \n",
    "    cv2.imshow('dibuja_rectangulos', img)\n",
    "    if cv2.waitKey(10) & 0xFF == 27:\n",
    "        break\n",
    "\n",
    "cv2.destroyAllWindows()"
   ]
  },
  {
   "cell_type": "code",
   "execution_count": null,
   "metadata": {},
   "outputs": [],
   "source": []
  }
 ],
 "metadata": {
  "kernelspec": {
   "display_name": "Python 3",
   "language": "python",
   "name": "python3"
  },
  "language_info": {
   "codemirror_mode": {
    "name": "ipython",
    "version": 3
   },
   "file_extension": ".py",
   "mimetype": "text/x-python",
   "name": "python",
   "nbconvert_exporter": "python",
   "pygments_lexer": "ipython3",
   "version": "3.6.7"
  }
 },
 "nbformat": 4,
 "nbformat_minor": 2
}
